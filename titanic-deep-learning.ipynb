{
 "cells": [
  {
   "cell_type": "code",
   "execution_count": 1,
   "id": "3c5aed5c",
   "metadata": {
    "_cell_guid": "b1076dfc-b9ad-4769-8c92-a6c4dae69d19",
    "_uuid": "8f2839f25d086af736a60e9eeb907d3b93b6e0e5",
    "execution": {
     "iopub.execute_input": "2022-06-30T09:47:17.392373Z",
     "iopub.status.busy": "2022-06-30T09:47:17.391763Z",
     "iopub.status.idle": "2022-06-30T09:47:17.411382Z",
     "shell.execute_reply": "2022-06-30T09:47:17.410169Z"
    },
    "papermill": {
     "duration": 0.046961,
     "end_time": "2022-06-30T09:47:17.415085",
     "exception": false,
     "start_time": "2022-06-30T09:47:17.368124",
     "status": "completed"
    },
    "tags": []
   },
   "outputs": [
    {
     "name": "stdout",
     "output_type": "stream",
     "text": [
      "/kaggle/input/titanic/train.csv\n",
      "/kaggle/input/titanic/test.csv\n",
      "/kaggle/input/titanic/gender_submission.csv\n"
     ]
    }
   ],
   "source": [
    "# This Python 3 environment comes with many helpful analytics libraries installed\n",
    "# It is defined by the kaggle/python Docker image: https://github.com/kaggle/docker-python\n",
    "# For example, here's several helpful packages to load\n",
    "\n",
    "import numpy as np # linear algebra\n",
    "import pandas as pd # data processing, CSV file I/O (e.g. pd.read_csv)\n",
    "\n",
    "# Input data files are available in the read-only \"../input/\" directory\n",
    "# For example, running this (by clicking run or pressing Shift+Enter) will list all files under the input directory\n",
    "\n",
    "import os\n",
    "for dirname, _, filenames in os.walk('/kaggle/input'):\n",
    "    for filename in filenames:\n",
    "        print(os.path.join(dirname, filename))\n",
    "\n",
    "# You can write up to 20GB to the current directory (/kaggle/working/) that gets preserved as output when you create a version using \"Save & Run All\" \n",
    "# You can also write temporary files to /kaggle/temp/, but they won't be saved outside of the current session"
   ]
  },
  {
   "cell_type": "markdown",
   "id": "3d9cda09",
   "metadata": {
    "papermill": {
     "duration": 0.021588,
     "end_time": "2022-06-30T09:47:17.457197",
     "exception": false,
     "start_time": "2022-06-30T09:47:17.435609",
     "status": "completed"
    },
    "tags": []
   },
   "source": [
    "<a id=\"1\"></a> <br>\n",
    "# 1. Import Necessary Libraries"
   ]
  },
  {
   "cell_type": "code",
   "execution_count": 2,
   "id": "52a2f1d2",
   "metadata": {
    "execution": {
     "iopub.execute_input": "2022-06-30T09:47:17.499874Z",
     "iopub.status.busy": "2022-06-30T09:47:17.499376Z",
     "iopub.status.idle": "2022-06-30T09:47:29.972017Z",
     "shell.execute_reply": "2022-06-30T09:47:29.970832Z"
    },
    "papermill": {
     "duration": 12.498304,
     "end_time": "2022-06-30T09:47:29.975184",
     "exception": false,
     "start_time": "2022-06-30T09:47:17.476880",
     "status": "completed"
    },
    "tags": []
   },
   "outputs": [],
   "source": [
    "import numpy as np\n",
    "import pandas as pd\n",
    "import matplotlib.pyplot as plt\n",
    "from sklearn.preprocessing import LabelEncoder , StandardScaler\n",
    "from sklearn.model_selection import train_test_split\n",
    "from sklearn.ensemble import RandomForestClassifier\n",
    "from sklearn.metrics import confusion_matrix, precision_recall_curve, roc_auc_score, roc_curve, accuracy_score\n",
    "from tensorflow import keras\n",
    "from keras import models\n",
    "from keras import layers\n",
    "from tensorflow.keras.optimizers import Adam, SGD, RMSprop\n",
    "import seaborn as sns\n",
    "import warnings\n",
    "warnings.filterwarnings('ignore')"
   ]
  },
  {
   "cell_type": "markdown",
   "id": "314b9ccb",
   "metadata": {
    "papermill": {
     "duration": 0.020648,
     "end_time": "2022-06-30T09:47:30.016779",
     "exception": false,
     "start_time": "2022-06-30T09:47:29.996131",
     "status": "completed"
    },
    "tags": []
   },
   "source": [
    "<a id=\"1\"></a> <br>\n",
    "# 2. Import Dataset"
   ]
  },
  {
   "cell_type": "code",
   "execution_count": 3,
   "id": "de85e2df",
   "metadata": {
    "execution": {
     "iopub.execute_input": "2022-06-30T09:47:30.060860Z",
     "iopub.status.busy": "2022-06-30T09:47:30.059786Z",
     "iopub.status.idle": "2022-06-30T09:47:30.109747Z",
     "shell.execute_reply": "2022-06-30T09:47:30.108563Z"
    },
    "papermill": {
     "duration": 0.075081,
     "end_time": "2022-06-30T09:47:30.112575",
     "exception": false,
     "start_time": "2022-06-30T09:47:30.037494",
     "status": "completed"
    },
    "tags": []
   },
   "outputs": [],
   "source": [
    "# Import Train&test Dataset\n",
    "df_train = pd.read_csv('/kaggle/input/titanic/train.csv')\n",
    "df_test = pd.read_csv('/kaggle/input/titanic/test.csv')\n",
    "df_data = pd.concat([df_train,df_test]).reset_index(drop=True)\n",
    "df_data = df_data.set_index('PassengerId')"
   ]
  },
  {
   "cell_type": "code",
   "execution_count": 4,
   "id": "e9e46545",
   "metadata": {
    "execution": {
     "iopub.execute_input": "2022-06-30T09:47:30.156266Z",
     "iopub.status.busy": "2022-06-30T09:47:30.155628Z",
     "iopub.status.idle": "2022-06-30T09:47:30.180660Z",
     "shell.execute_reply": "2022-06-30T09:47:30.179482Z"
    },
    "papermill": {
     "duration": 0.049334,
     "end_time": "2022-06-30T09:47:30.183065",
     "exception": false,
     "start_time": "2022-06-30T09:47:30.133731",
     "status": "completed"
    },
    "tags": []
   },
   "outputs": [
    {
     "data": {
      "text/html": [
       "<div>\n",
       "<style scoped>\n",
       "    .dataframe tbody tr th:only-of-type {\n",
       "        vertical-align: middle;\n",
       "    }\n",
       "\n",
       "    .dataframe tbody tr th {\n",
       "        vertical-align: top;\n",
       "    }\n",
       "\n",
       "    .dataframe thead th {\n",
       "        text-align: right;\n",
       "    }\n",
       "</style>\n",
       "<table border=\"1\" class=\"dataframe\">\n",
       "  <thead>\n",
       "    <tr style=\"text-align: right;\">\n",
       "      <th></th>\n",
       "      <th>Survived</th>\n",
       "      <th>Pclass</th>\n",
       "      <th>Name</th>\n",
       "      <th>Sex</th>\n",
       "      <th>Age</th>\n",
       "      <th>SibSp</th>\n",
       "      <th>Parch</th>\n",
       "      <th>Ticket</th>\n",
       "      <th>Fare</th>\n",
       "      <th>Cabin</th>\n",
       "      <th>Embarked</th>\n",
       "    </tr>\n",
       "    <tr>\n",
       "      <th>PassengerId</th>\n",
       "      <th></th>\n",
       "      <th></th>\n",
       "      <th></th>\n",
       "      <th></th>\n",
       "      <th></th>\n",
       "      <th></th>\n",
       "      <th></th>\n",
       "      <th></th>\n",
       "      <th></th>\n",
       "      <th></th>\n",
       "      <th></th>\n",
       "    </tr>\n",
       "  </thead>\n",
       "  <tbody>\n",
       "    <tr>\n",
       "      <th>1</th>\n",
       "      <td>0.0</td>\n",
       "      <td>3</td>\n",
       "      <td>Braund, Mr. Owen Harris</td>\n",
       "      <td>male</td>\n",
       "      <td>22.0</td>\n",
       "      <td>1</td>\n",
       "      <td>0</td>\n",
       "      <td>A/5 21171</td>\n",
       "      <td>7.2500</td>\n",
       "      <td>NaN</td>\n",
       "      <td>S</td>\n",
       "    </tr>\n",
       "    <tr>\n",
       "      <th>2</th>\n",
       "      <td>1.0</td>\n",
       "      <td>1</td>\n",
       "      <td>Cumings, Mrs. John Bradley (Florence Briggs Th...</td>\n",
       "      <td>female</td>\n",
       "      <td>38.0</td>\n",
       "      <td>1</td>\n",
       "      <td>0</td>\n",
       "      <td>PC 17599</td>\n",
       "      <td>71.2833</td>\n",
       "      <td>C85</td>\n",
       "      <td>C</td>\n",
       "    </tr>\n",
       "    <tr>\n",
       "      <th>3</th>\n",
       "      <td>1.0</td>\n",
       "      <td>3</td>\n",
       "      <td>Heikkinen, Miss. Laina</td>\n",
       "      <td>female</td>\n",
       "      <td>26.0</td>\n",
       "      <td>0</td>\n",
       "      <td>0</td>\n",
       "      <td>STON/O2. 3101282</td>\n",
       "      <td>7.9250</td>\n",
       "      <td>NaN</td>\n",
       "      <td>S</td>\n",
       "    </tr>\n",
       "    <tr>\n",
       "      <th>4</th>\n",
       "      <td>1.0</td>\n",
       "      <td>1</td>\n",
       "      <td>Futrelle, Mrs. Jacques Heath (Lily May Peel)</td>\n",
       "      <td>female</td>\n",
       "      <td>35.0</td>\n",
       "      <td>1</td>\n",
       "      <td>0</td>\n",
       "      <td>113803</td>\n",
       "      <td>53.1000</td>\n",
       "      <td>C123</td>\n",
       "      <td>S</td>\n",
       "    </tr>\n",
       "    <tr>\n",
       "      <th>5</th>\n",
       "      <td>0.0</td>\n",
       "      <td>3</td>\n",
       "      <td>Allen, Mr. William Henry</td>\n",
       "      <td>male</td>\n",
       "      <td>35.0</td>\n",
       "      <td>0</td>\n",
       "      <td>0</td>\n",
       "      <td>373450</td>\n",
       "      <td>8.0500</td>\n",
       "      <td>NaN</td>\n",
       "      <td>S</td>\n",
       "    </tr>\n",
       "  </tbody>\n",
       "</table>\n",
       "</div>"
      ],
      "text/plain": [
       "             Survived  Pclass  \\\n",
       "PassengerId                     \n",
       "1                 0.0       3   \n",
       "2                 1.0       1   \n",
       "3                 1.0       3   \n",
       "4                 1.0       1   \n",
       "5                 0.0       3   \n",
       "\n",
       "                                                          Name     Sex   Age  \\\n",
       "PassengerId                                                                    \n",
       "1                                      Braund, Mr. Owen Harris    male  22.0   \n",
       "2            Cumings, Mrs. John Bradley (Florence Briggs Th...  female  38.0   \n",
       "3                                       Heikkinen, Miss. Laina  female  26.0   \n",
       "4                 Futrelle, Mrs. Jacques Heath (Lily May Peel)  female  35.0   \n",
       "5                                     Allen, Mr. William Henry    male  35.0   \n",
       "\n",
       "             SibSp  Parch            Ticket     Fare Cabin Embarked  \n",
       "PassengerId                                                          \n",
       "1                1      0         A/5 21171   7.2500   NaN        S  \n",
       "2                1      0          PC 17599  71.2833   C85        C  \n",
       "3                0      0  STON/O2. 3101282   7.9250   NaN        S  \n",
       "4                1      0            113803  53.1000  C123        S  \n",
       "5                0      0            373450   8.0500   NaN        S  "
      ]
     },
     "execution_count": 4,
     "metadata": {},
     "output_type": "execute_result"
    }
   ],
   "source": [
    "df_data.head()"
   ]
  },
  {
   "cell_type": "markdown",
   "id": "35557dc6",
   "metadata": {
    "papermill": {
     "duration": 0.02073,
     "end_time": "2022-06-30T09:47:30.225742",
     "exception": false,
     "start_time": "2022-06-30T09:47:30.205012",
     "status": "completed"
    },
    "tags": []
   },
   "source": [
    "<a id=\"1\"></a> <br>\n",
    "# 3. Missing Values"
   ]
  },
  {
   "cell_type": "code",
   "execution_count": 5,
   "id": "fe7c475a",
   "metadata": {
    "execution": {
     "iopub.execute_input": "2022-06-30T09:47:30.267599Z",
     "iopub.status.busy": "2022-06-30T09:47:30.267236Z",
     "iopub.status.idle": "2022-06-30T09:47:30.282648Z",
     "shell.execute_reply": "2022-06-30T09:47:30.281350Z"
    },
    "papermill": {
     "duration": 0.039577,
     "end_time": "2022-06-30T09:47:30.285287",
     "exception": false,
     "start_time": "2022-06-30T09:47:30.245710",
     "status": "completed"
    },
    "tags": []
   },
   "outputs": [
    {
     "data": {
      "text/plain": [
       "Pclass         0\n",
       "Name           0\n",
       "Sex            0\n",
       "Age          263\n",
       "SibSp          0\n",
       "Parch          0\n",
       "Ticket         0\n",
       "Fare           1\n",
       "Cabin       1014\n",
       "Embarked       2\n",
       "dtype: int64"
      ]
     },
     "execution_count": 5,
     "metadata": {},
     "output_type": "execute_result"
    }
   ],
   "source": [
    "df_data.isnull().iloc[:,1:].sum()"
   ]
  },
  {
   "cell_type": "code",
   "execution_count": 6,
   "id": "ab9e64c6",
   "metadata": {
    "execution": {
     "iopub.execute_input": "2022-06-30T09:47:30.327805Z",
     "iopub.status.busy": "2022-06-30T09:47:30.327130Z",
     "iopub.status.idle": "2022-06-30T09:47:30.587971Z",
     "shell.execute_reply": "2022-06-30T09:47:30.586758Z"
    },
    "papermill": {
     "duration": 0.285036,
     "end_time": "2022-06-30T09:47:30.590445",
     "exception": false,
     "start_time": "2022-06-30T09:47:30.305409",
     "status": "completed"
    },
    "tags": []
   },
   "outputs": [
    {
     "data": {
      "text/plain": [
       "<AxesSubplot:>"
      ]
     },
     "execution_count": 6,
     "metadata": {},
     "output_type": "execute_result"
    },
    {
     "data": {
      "image/png": "[encoded data removed]",
      "text/plain": [
       "<Figure size 432x288 with 1 Axes>"
      ]
     },
     "metadata": {
      "needs_background": "light"
     },
     "output_type": "display_data"
    }
   ],
   "source": [
    "df_data.isnull().iloc[:,1:].sum().plot(kind='bar')"
   ]
  },
  {
   "cell_type": "code",
   "execution_count": 7,
   "id": "247887b4",
   "metadata": {
    "execution": {
     "iopub.execute_input": "2022-06-30T09:47:30.634846Z",
     "iopub.status.busy": "2022-06-30T09:47:30.633789Z",
     "iopub.status.idle": "2022-06-30T09:47:31.103848Z",
     "shell.execute_reply": "2022-06-30T09:47:31.102463Z"
    },
    "papermill": {
     "duration": 0.494645,
     "end_time": "2022-06-30T09:47:31.106404",
     "exception": false,
     "start_time": "2022-06-30T09:47:30.611759",
     "status": "completed"
    },
    "tags": []
   },
   "outputs": [
    {
     "data": {
      "text/plain": [
       "<AxesSubplot:xlabel='Survived', ylabel='count'>"
      ]
     },
     "execution_count": 7,
     "metadata": {},
     "output_type": "execute_result"
    },
    {
     "data": {
      "image/png": "[encoded data removed]",
      "text/plain": [
       "<Figure size 1296x432 with 3 Axes>"
      ]
     },
     "metadata": {
      "needs_background": "light"
     },
     "output_type": "display_data"
    }
   ],
   "source": [
    "fig , axes = plt.subplots(nrows=1, ncols=3, figsize=(18,6))\n",
    "sns.countplot(x = 'Survived', hue = 'Sex', data= df_data, ax = axes[0])\n",
    "sns.countplot(x = 'Survived', hue = 'Pclass', data= df_data, ax = axes[1])\n",
    "sns.countplot(x = 'Survived', hue = 'Embarked', data= df_data, ax = axes[2])"
   ]
  },
  {
   "cell_type": "code",
   "execution_count": 8,
   "id": "6a6ad79f",
   "metadata": {
    "execution": {
     "iopub.execute_input": "2022-06-30T09:47:31.151948Z",
     "iopub.status.busy": "2022-06-30T09:47:31.151533Z",
     "iopub.status.idle": "2022-06-30T09:47:31.542998Z",
     "shell.execute_reply": "2022-06-30T09:47:31.541714Z"
    },
    "papermill": {
     "duration": 0.417351,
     "end_time": "2022-06-30T09:47:31.545568",
     "exception": false,
     "start_time": "2022-06-30T09:47:31.128217",
     "status": "completed"
    },
    "tags": []
   },
   "outputs": [
    {
     "data": {
      "text/plain": [
       "<AxesSubplot:>"
      ]
     },
     "execution_count": 8,
     "metadata": {},
     "output_type": "execute_result"
    },
    {
     "data": {
      "image/png": "[encoded data removed]",
      "text/plain": [
       "<Figure size 576x360 with 2 Axes>"
      ]
     },
     "metadata": {
      "needs_background": "light"
     },
     "output_type": "display_data"
    }
   ],
   "source": [
    "#Corralation\n",
    "plt.figure(figsize=(8,5))\n",
    "sns.heatmap(df_data.corr(),annot=True, cmap='winter')"
   ]
  },
  {
   "cell_type": "code",
   "execution_count": 9,
   "id": "197b15c4",
   "metadata": {
    "execution": {
     "iopub.execute_input": "2022-06-30T09:47:31.593293Z",
     "iopub.status.busy": "2022-06-30T09:47:31.592773Z",
     "iopub.status.idle": "2022-06-30T09:47:31.600890Z",
     "shell.execute_reply": "2022-06-30T09:47:31.599702Z"
    },
    "papermill": {
     "duration": 0.035132,
     "end_time": "2022-06-30T09:47:31.603272",
     "exception": false,
     "start_time": "2022-06-30T09:47:31.568140",
     "status": "completed"
    },
    "tags": []
   },
   "outputs": [],
   "source": [
    "df_Age_corr  = pd.DataFrame(df_data.corr().Age.abs())"
   ]
  },
  {
   "cell_type": "code",
   "execution_count": 10,
   "id": "8f3e6b5d",
   "metadata": {
    "execution": {
     "iopub.execute_input": "2022-06-30T09:47:31.651332Z",
     "iopub.status.busy": "2022-06-30T09:47:31.650587Z",
     "iopub.status.idle": "2022-06-30T09:47:31.659655Z",
     "shell.execute_reply": "2022-06-30T09:47:31.658827Z"
    },
    "papermill": {
     "duration": 0.0365,
     "end_time": "2022-06-30T09:47:31.661785",
     "exception": false,
     "start_time": "2022-06-30T09:47:31.625285",
     "status": "completed"
    },
    "tags": []
   },
   "outputs": [
    {
     "data": {
      "text/html": [
       "<div>\n",
       "<style scoped>\n",
       "    .dataframe tbody tr th:only-of-type {\n",
       "        vertical-align: middle;\n",
       "    }\n",
       "\n",
       "    .dataframe tbody tr th {\n",
       "        vertical-align: top;\n",
       "    }\n",
       "\n",
       "    .dataframe thead th {\n",
       "        text-align: right;\n",
       "    }\n",
       "</style>\n",
       "<table border=\"1\" class=\"dataframe\">\n",
       "  <thead>\n",
       "    <tr style=\"text-align: right;\">\n",
       "      <th></th>\n",
       "      <th>Age</th>\n",
       "    </tr>\n",
       "  </thead>\n",
       "  <tbody>\n",
       "    <tr>\n",
       "      <th>Survived</th>\n",
       "      <td>0.077221</td>\n",
       "    </tr>\n",
       "    <tr>\n",
       "      <th>Pclass</th>\n",
       "      <td>0.408106</td>\n",
       "    </tr>\n",
       "    <tr>\n",
       "      <th>Age</th>\n",
       "      <td>1.000000</td>\n",
       "    </tr>\n",
       "    <tr>\n",
       "      <th>SibSp</th>\n",
       "      <td>0.243699</td>\n",
       "    </tr>\n",
       "    <tr>\n",
       "      <th>Parch</th>\n",
       "      <td>0.150917</td>\n",
       "    </tr>\n",
       "    <tr>\n",
       "      <th>Fare</th>\n",
       "      <td>0.178740</td>\n",
       "    </tr>\n",
       "  </tbody>\n",
       "</table>\n",
       "</div>"
      ],
      "text/plain": [
       "               Age\n",
       "Survived  0.077221\n",
       "Pclass    0.408106\n",
       "Age       1.000000\n",
       "SibSp     0.243699\n",
       "Parch     0.150917\n",
       "Fare      0.178740"
      ]
     },
     "execution_count": 10,
     "metadata": {},
     "output_type": "execute_result"
    }
   ],
   "source": [
    "df_Age_corr"
   ]
  },
  {
   "cell_type": "markdown",
   "id": "db3a2d87",
   "metadata": {
    "papermill": {
     "duration": 0.02246,
     "end_time": "2022-06-30T09:47:31.706230",
     "exception": false,
     "start_time": "2022-06-30T09:47:31.683770",
     "status": "completed"
    },
    "tags": []
   },
   "source": [
    "Since PClass is the variable that is most correlated with both Age and Survived, we will group passengers according to the class they belong to. What we will do is replace the missing values with the median of each group."
   ]
  },
  {
   "cell_type": "code",
   "execution_count": 11,
   "id": "681baeb2",
   "metadata": {
    "execution": {
     "iopub.execute_input": "2022-06-30T09:47:31.754146Z",
     "iopub.status.busy": "2022-06-30T09:47:31.752912Z",
     "iopub.status.idle": "2022-06-30T09:47:31.769917Z",
     "shell.execute_reply": "2022-06-30T09:47:31.768201Z"
    },
    "papermill": {
     "duration": 0.044102,
     "end_time": "2022-06-30T09:47:31.773271",
     "exception": false,
     "start_time": "2022-06-30T09:47:31.729169",
     "status": "completed"
    },
    "tags": []
   },
   "outputs": [
    {
     "name": "stdout",
     "output_type": "stream",
     "text": [
      "Number of Missing Value for Age is : 0\n"
     ]
    }
   ],
   "source": [
    "df_data.Age = df_data.groupby(['Pclass','Sex'])['Age'].apply(lambda x:x.fillna(x.median()))\n",
    "print('Number of Missing Value for Age is : {}'.format(df_data.Age.isnull().sum()))"
   ]
  },
  {
   "cell_type": "markdown",
   "id": "071cf7dd",
   "metadata": {
    "papermill": {
     "duration": 0.021615,
     "end_time": "2022-06-30T09:47:31.817998",
     "exception": false,
     "start_time": "2022-06-30T09:47:31.796383",
     "status": "completed"
    },
    "tags": []
   },
   "source": [
    "For Embarked, we will replace the missing values by the mode, i.e. the most repeated value."
   ]
  },
  {
   "cell_type": "code",
   "execution_count": 12,
   "id": "e71b6dbd",
   "metadata": {
    "execution": {
     "iopub.execute_input": "2022-06-30T09:47:31.864103Z",
     "iopub.status.busy": "2022-06-30T09:47:31.863735Z",
     "iopub.status.idle": "2022-06-30T09:47:31.871363Z",
     "shell.execute_reply": "2022-06-30T09:47:31.870514Z"
    },
    "papermill": {
     "duration": 0.033993,
     "end_time": "2022-06-30T09:47:31.874412",
     "exception": false,
     "start_time": "2022-06-30T09:47:31.840419",
     "status": "completed"
    },
    "tags": []
   },
   "outputs": [
    {
     "data": {
      "text/plain": [
       "S    914\n",
       "C    270\n",
       "Q    123\n",
       "Name: Embarked, dtype: int64"
      ]
     },
     "execution_count": 12,
     "metadata": {},
     "output_type": "execute_result"
    }
   ],
   "source": [
    "df_data.Embarked.value_counts()"
   ]
  },
  {
   "cell_type": "code",
   "execution_count": 13,
   "id": "655c02d9",
   "metadata": {
    "execution": {
     "iopub.execute_input": "2022-06-30T09:47:31.920579Z",
     "iopub.status.busy": "2022-06-30T09:47:31.919796Z",
     "iopub.status.idle": "2022-06-30T09:47:31.928330Z",
     "shell.execute_reply": "2022-06-30T09:47:31.927057Z"
    },
    "papermill": {
     "duration": 0.035424,
     "end_time": "2022-06-30T09:47:31.931772",
     "exception": false,
     "start_time": "2022-06-30T09:47:31.896348",
     "status": "completed"
    },
    "tags": []
   },
   "outputs": [
    {
     "name": "stdout",
     "output_type": "stream",
     "text": [
      "Number of Missing Value for Embarked is : 0\n"
     ]
    }
   ],
   "source": [
    "df_data.Embarked.replace(np.nan, 'S', inplace=True)\n",
    "print('Number of Missing Value for Embarked is : {}'.format(df_data.Embarked.isnull().sum()))"
   ]
  },
  {
   "cell_type": "markdown",
   "id": "fde033cd",
   "metadata": {
    "papermill": {
     "duration": 0.022128,
     "end_time": "2022-06-30T09:47:31.976501",
     "exception": false,
     "start_time": "2022-06-30T09:47:31.954373",
     "status": "completed"
    },
    "tags": []
   },
   "source": [
    "We have one missing value for Fare, belonging to one male of the testing dataset. We can assume that it is related to FamilySize and PClass. Median Fare value of a male with a third class ticket and no family is a logical choice to fill the missing value."
   ]
  },
  {
   "cell_type": "code",
   "execution_count": 14,
   "id": "1f4111a2",
   "metadata": {
    "execution": {
     "iopub.execute_input": "2022-06-30T09:47:32.025763Z",
     "iopub.status.busy": "2022-06-30T09:47:32.025356Z",
     "iopub.status.idle": "2022-06-30T09:47:32.043458Z",
     "shell.execute_reply": "2022-06-30T09:47:32.042294Z"
    },
    "papermill": {
     "duration": 0.046582,
     "end_time": "2022-06-30T09:47:32.045865",
     "exception": false,
     "start_time": "2022-06-30T09:47:31.999283",
     "status": "completed"
    },
    "tags": []
   },
   "outputs": [
    {
     "data": {
      "text/html": [
       "<div>\n",
       "<style scoped>\n",
       "    .dataframe tbody tr th:only-of-type {\n",
       "        vertical-align: middle;\n",
       "    }\n",
       "\n",
       "    .dataframe tbody tr th {\n",
       "        vertical-align: top;\n",
       "    }\n",
       "\n",
       "    .dataframe thead th {\n",
       "        text-align: right;\n",
       "    }\n",
       "</style>\n",
       "<table border=\"1\" class=\"dataframe\">\n",
       "  <thead>\n",
       "    <tr style=\"text-align: right;\">\n",
       "      <th></th>\n",
       "      <th>Survived</th>\n",
       "      <th>Pclass</th>\n",
       "      <th>Name</th>\n",
       "      <th>Sex</th>\n",
       "      <th>Age</th>\n",
       "      <th>SibSp</th>\n",
       "      <th>Parch</th>\n",
       "      <th>Ticket</th>\n",
       "      <th>Fare</th>\n",
       "      <th>Cabin</th>\n",
       "      <th>Embarked</th>\n",
       "    </tr>\n",
       "    <tr>\n",
       "      <th>PassengerId</th>\n",
       "      <th></th>\n",
       "      <th></th>\n",
       "      <th></th>\n",
       "      <th></th>\n",
       "      <th></th>\n",
       "      <th></th>\n",
       "      <th></th>\n",
       "      <th></th>\n",
       "      <th></th>\n",
       "      <th></th>\n",
       "      <th></th>\n",
       "    </tr>\n",
       "  </thead>\n",
       "  <tbody>\n",
       "    <tr>\n",
       "      <th>1044</th>\n",
       "      <td>NaN</td>\n",
       "      <td>3</td>\n",
       "      <td>Storey, Mr. Thomas</td>\n",
       "      <td>male</td>\n",
       "      <td>60.5</td>\n",
       "      <td>0</td>\n",
       "      <td>0</td>\n",
       "      <td>3701</td>\n",
       "      <td>NaN</td>\n",
       "      <td>NaN</td>\n",
       "      <td>S</td>\n",
       "    </tr>\n",
       "  </tbody>\n",
       "</table>\n",
       "</div>"
      ],
      "text/plain": [
       "             Survived  Pclass                Name   Sex   Age  SibSp  Parch  \\\n",
       "PassengerId                                                                   \n",
       "1044              NaN       3  Storey, Mr. Thomas  male  60.5      0      0   \n",
       "\n",
       "            Ticket  Fare Cabin Embarked  \n",
       "PassengerId                              \n",
       "1044          3701   NaN   NaN        S  "
      ]
     },
     "execution_count": 14,
     "metadata": {},
     "output_type": "execute_result"
    }
   ],
   "source": [
    "df_data[df_data.Fare.isnull()==True]"
   ]
  },
  {
   "cell_type": "code",
   "execution_count": 15,
   "id": "f1fb18ab",
   "metadata": {
    "execution": {
     "iopub.execute_input": "2022-06-30T09:47:32.094709Z",
     "iopub.status.busy": "2022-06-30T09:47:32.094289Z",
     "iopub.status.idle": "2022-06-30T09:47:32.107811Z",
     "shell.execute_reply": "2022-06-30T09:47:32.106419Z"
    },
    "papermill": {
     "duration": 0.040671,
     "end_time": "2022-06-30T09:47:32.110231",
     "exception": false,
     "start_time": "2022-06-30T09:47:32.069560",
     "status": "completed"
    },
    "tags": []
   },
   "outputs": [
    {
     "name": "stdout",
     "output_type": "stream",
     "text": [
      "Number of Missing Value for Fare is : 0\n"
     ]
    }
   ],
   "source": [
    "median_Fare = df_data.groupby(['Pclass','Parch','SibSp']).Fare.median()[3][0][0]\n",
    "df_data.Fare = df_data.Fare.fillna(median_Fare)\n",
    "print('Number of Missing Value for Fare is : {}'.format(df_data.Fare.isnull().sum()))"
   ]
  },
  {
   "cell_type": "code",
   "execution_count": 16,
   "id": "94a0782c",
   "metadata": {
    "execution": {
     "iopub.execute_input": "2022-06-30T09:47:32.157898Z",
     "iopub.status.busy": "2022-06-30T09:47:32.157326Z",
     "iopub.status.idle": "2022-06-30T09:47:32.163883Z",
     "shell.execute_reply": "2022-06-30T09:47:32.162715Z"
    },
    "papermill": {
     "duration": 0.033557,
     "end_time": "2022-06-30T09:47:32.166971",
     "exception": false,
     "start_time": "2022-06-30T09:47:32.133414",
     "status": "completed"
    },
    "tags": []
   },
   "outputs": [],
   "source": [
    "# Remove Cabin Columns\n",
    "df_data.drop('Cabin', axis=1, inplace=True)"
   ]
  },
  {
   "cell_type": "markdown",
   "id": "c86fe735",
   "metadata": {
    "papermill": {
     "duration": 0.022271,
     "end_time": "2022-06-30T09:47:32.211697",
     "exception": false,
     "start_time": "2022-06-30T09:47:32.189426",
     "status": "completed"
    },
    "tags": []
   },
   "source": [
    "Now, we don't have any Missing Data"
   ]
  },
  {
   "cell_type": "code",
   "execution_count": 17,
   "id": "cdd981e5",
   "metadata": {
    "execution": {
     "iopub.execute_input": "2022-06-30T09:47:32.260724Z",
     "iopub.status.busy": "2022-06-30T09:47:32.259547Z",
     "iopub.status.idle": "2022-06-30T09:47:32.271386Z",
     "shell.execute_reply": "2022-06-30T09:47:32.270470Z"
    },
    "papermill": {
     "duration": 0.039619,
     "end_time": "2022-06-30T09:47:32.274223",
     "exception": false,
     "start_time": "2022-06-30T09:47:32.234604",
     "status": "completed"
    },
    "tags": []
   },
   "outputs": [
    {
     "data": {
      "text/plain": [
       "Pclass      0\n",
       "Name        0\n",
       "Sex         0\n",
       "Age         0\n",
       "SibSp       0\n",
       "Parch       0\n",
       "Ticket      0\n",
       "Fare        0\n",
       "Embarked    0\n",
       "dtype: int64"
      ]
     },
     "execution_count": 17,
     "metadata": {},
     "output_type": "execute_result"
    }
   ],
   "source": [
    "df_data.isnull().iloc[:,1:].sum()"
   ]
  },
  {
   "cell_type": "markdown",
   "id": "9bfae09b",
   "metadata": {
    "papermill": {
     "duration": 0.023764,
     "end_time": "2022-06-30T09:47:32.321701",
     "exception": false,
     "start_time": "2022-06-30T09:47:32.297937",
     "status": "completed"
    },
    "tags": []
   },
   "source": [
    "<a id=\"1\"></a> <br>\n",
    "# 4. Feature Engineering"
   ]
  },
  {
   "cell_type": "markdown",
   "id": "bb38753f",
   "metadata": {
    "papermill": {
     "duration": 0.023768,
     "end_time": "2022-06-30T09:47:32.370285",
     "exception": false,
     "start_time": "2022-06-30T09:47:32.346517",
     "status": "completed"
    },
    "tags": []
   },
   "source": [
    "We will start by creating fields related to the family unit. The first of these will come from the SibSp and Parch fields, which we can remove later. This will reflect the size of passengers' family. We will also enter a field to indicate whether the passenger is travelling alone or not."
   ]
  },
  {
   "cell_type": "code",
   "execution_count": 18,
   "id": "302d6c2b",
   "metadata": {
    "execution": {
     "iopub.execute_input": "2022-06-30T09:47:32.419394Z",
     "iopub.status.busy": "2022-06-30T09:47:32.418971Z",
     "iopub.status.idle": "2022-06-30T09:47:32.432413Z",
     "shell.execute_reply": "2022-06-30T09:47:32.431047Z"
    },
    "papermill": {
     "duration": 0.04147,
     "end_time": "2022-06-30T09:47:32.435298",
     "exception": false,
     "start_time": "2022-06-30T09:47:32.393828",
     "status": "completed"
    },
    "tags": []
   },
   "outputs": [],
   "source": [
    "df_data['FamilySize'] = df_data['Parch'] + df_data['SibSp'] + 1\n",
    "df_data['Alone'] = 0\n",
    "df_data['Alone'] = df_data['FamilySize'].apply(lambda x: 0 if x>1 else 1)\n",
    "df_data.drop(['Parch','SibSp'],axis=1,inplace=True)"
   ]
  },
  {
   "cell_type": "code",
   "execution_count": 19,
   "id": "51b2cf00",
   "metadata": {
    "execution": {
     "iopub.execute_input": "2022-06-30T09:47:32.484965Z",
     "iopub.status.busy": "2022-06-30T09:47:32.483847Z",
     "iopub.status.idle": "2022-06-30T09:47:32.787554Z",
     "shell.execute_reply": "2022-06-30T09:47:32.786411Z"
    },
    "papermill": {
     "duration": 0.331188,
     "end_time": "2022-06-30T09:47:32.790065",
     "exception": false,
     "start_time": "2022-06-30T09:47:32.458877",
     "status": "completed"
    },
    "tags": []
   },
   "outputs": [
    {
     "data": {
      "text/plain": [
       "<AxesSubplot:xlabel='Survived', ylabel='count'>"
      ]
     },
     "execution_count": 19,
     "metadata": {},
     "output_type": "execute_result"
    },
    {
     "data": {
      "image/png": "[encoded data removed]",
      "text/plain": [
       "<Figure size 1584x576 with 1 Axes>"
      ]
     },
     "metadata": {
      "needs_background": "light"
     },
     "output_type": "display_data"
    }
   ],
   "source": [
    "fig, axes = plt.subplots(figsize=(22,8))\n",
    "sns.countplot(x ='Survived',hue='FamilySize', data=df_data)"
   ]
  },
  {
   "cell_type": "markdown",
   "id": "ea48134c",
   "metadata": {
    "papermill": {
     "duration": 0.024425,
     "end_time": "2022-06-30T09:47:32.837789",
     "exception": false,
     "start_time": "2022-06-30T09:47:32.813364",
     "status": "completed"
    },
    "tags": []
   },
   "source": [
    "I have decided to group Family Size into 4 different groups:\n",
    "\n",
    "Alone: for people travelling with no member of his/her family.\n",
    "\n",
    "Small: for people travelling with 3 members of family\n",
    "\n",
    "Medium: travelling with 4 or 5 members of family\n",
    "\n",
    "Large: travelling with 6+ members of family\n"
   ]
  },
  {
   "cell_type": "code",
   "execution_count": 20,
   "id": "735eb6b2",
   "metadata": {
    "execution": {
     "iopub.execute_input": "2022-06-30T09:47:32.886327Z",
     "iopub.status.busy": "2022-06-30T09:47:32.885315Z",
     "iopub.status.idle": "2022-06-30T09:47:32.893656Z",
     "shell.execute_reply": "2022-06-30T09:47:32.892184Z"
    },
    "papermill": {
     "duration": 0.035536,
     "end_time": "2022-06-30T09:47:32.896300",
     "exception": false,
     "start_time": "2022-06-30T09:47:32.860764",
     "status": "completed"
    },
    "tags": []
   },
   "outputs": [],
   "source": [
    "family_group = {1: 'Alone', 2: 'Small', 3: 'Small', 4: 'Small', 5: 'Medium', 6: 'Medium', 7: 'Large', 8: 'Large', 11: 'Large'}\n",
    "df_data['FamilyGroup'] = df_data.FamilySize.map(family_group)"
   ]
  },
  {
   "cell_type": "code",
   "execution_count": 21,
   "id": "ac422bcf",
   "metadata": {
    "execution": {
     "iopub.execute_input": "2022-06-30T09:47:32.946834Z",
     "iopub.status.busy": "2022-06-30T09:47:32.946421Z",
     "iopub.status.idle": "2022-06-30T09:47:33.179798Z",
     "shell.execute_reply": "2022-06-30T09:47:33.178197Z"
    },
    "papermill": {
     "duration": 0.261724,
     "end_time": "2022-06-30T09:47:33.182208",
     "exception": false,
     "start_time": "2022-06-30T09:47:32.920484",
     "status": "completed"
    },
    "tags": []
   },
   "outputs": [
    {
     "data": {
      "text/plain": [
       "<AxesSubplot:xlabel='Survived', ylabel='count'>"
      ]
     },
     "execution_count": 21,
     "metadata": {},
     "output_type": "execute_result"
    },
    {
     "data": {
      "image/png": "[encoded data removed]",
      "text/plain": [
       "<Figure size 864x432 with 1 Axes>"
      ]
     },
     "metadata": {
      "needs_background": "light"
     },
     "output_type": "display_data"
    }
   ],
   "source": [
    "fig, axes = plt.subplots(figsize=(12,6))\n",
    "sns.countplot(x ='Survived',hue='FamilyGroup', data=df_data)"
   ]
  },
  {
   "cell_type": "markdown",
   "id": "d91ef86f",
   "metadata": {
    "papermill": {
     "duration": 0.023463,
     "end_time": "2022-06-30T09:47:33.229770",
     "exception": false,
     "start_time": "2022-06-30T09:47:33.206307",
     "status": "completed"
    },
    "tags": []
   },
   "source": [
    "Based on the chart above ,we can observe that lonely people tend to die. On the other hand, small families members are most likely to survive."
   ]
  },
  {
   "cell_type": "markdown",
   "id": "30fcbc0f",
   "metadata": {
    "papermill": {
     "duration": 0.022867,
     "end_time": "2022-06-30T09:47:33.276013",
     "exception": false,
     "start_time": "2022-06-30T09:47:33.253146",
     "status": "completed"
    },
    "tags": []
   },
   "source": [
    "Now we are going to add a column that will be related to the Name field:"
   ]
  },
  {
   "cell_type": "code",
   "execution_count": 22,
   "id": "ee97685f",
   "metadata": {
    "execution": {
     "iopub.execute_input": "2022-06-30T09:47:33.325593Z",
     "iopub.status.busy": "2022-06-30T09:47:33.324272Z",
     "iopub.status.idle": "2022-06-30T09:47:33.358621Z",
     "shell.execute_reply": "2022-06-30T09:47:33.357522Z"
    },
    "papermill": {
     "duration": 0.061674,
     "end_time": "2022-06-30T09:47:33.361001",
     "exception": false,
     "start_time": "2022-06-30T09:47:33.299327",
     "status": "completed"
    },
    "tags": []
   },
   "outputs": [
    {
     "data": {
      "text/html": [
       "<div>\n",
       "<style scoped>\n",
       "    .dataframe tbody tr th:only-of-type {\n",
       "        vertical-align: middle;\n",
       "    }\n",
       "\n",
       "    .dataframe tbody tr th {\n",
       "        vertical-align: top;\n",
       "    }\n",
       "\n",
       "    .dataframe thead th {\n",
       "        text-align: right;\n",
       "    }\n",
       "</style>\n",
       "<table border=\"1\" class=\"dataframe\">\n",
       "  <thead>\n",
       "    <tr style=\"text-align: right;\">\n",
       "      <th>Title</th>\n",
       "      <th>Capt</th>\n",
       "      <th>Col</th>\n",
       "      <th>Countess</th>\n",
       "      <th>Don</th>\n",
       "      <th>Dona</th>\n",
       "      <th>Dr</th>\n",
       "      <th>Jonkheer</th>\n",
       "      <th>Lady</th>\n",
       "      <th>Major</th>\n",
       "      <th>Master</th>\n",
       "      <th>Miss</th>\n",
       "      <th>Mlle</th>\n",
       "      <th>Mme</th>\n",
       "      <th>Mr</th>\n",
       "      <th>Mrs</th>\n",
       "      <th>Ms</th>\n",
       "      <th>Rev</th>\n",
       "      <th>Sir</th>\n",
       "    </tr>\n",
       "    <tr>\n",
       "      <th>Sex</th>\n",
       "      <th></th>\n",
       "      <th></th>\n",
       "      <th></th>\n",
       "      <th></th>\n",
       "      <th></th>\n",
       "      <th></th>\n",
       "      <th></th>\n",
       "      <th></th>\n",
       "      <th></th>\n",
       "      <th></th>\n",
       "      <th></th>\n",
       "      <th></th>\n",
       "      <th></th>\n",
       "      <th></th>\n",
       "      <th></th>\n",
       "      <th></th>\n",
       "      <th></th>\n",
       "      <th></th>\n",
       "    </tr>\n",
       "  </thead>\n",
       "  <tbody>\n",
       "    <tr>\n",
       "      <th>female</th>\n",
       "      <td>0</td>\n",
       "      <td>0</td>\n",
       "      <td>1</td>\n",
       "      <td>0</td>\n",
       "      <td>1</td>\n",
       "      <td>1</td>\n",
       "      <td>0</td>\n",
       "      <td>1</td>\n",
       "      <td>0</td>\n",
       "      <td>0</td>\n",
       "      <td>260</td>\n",
       "      <td>2</td>\n",
       "      <td>1</td>\n",
       "      <td>0</td>\n",
       "      <td>197</td>\n",
       "      <td>2</td>\n",
       "      <td>0</td>\n",
       "      <td>0</td>\n",
       "    </tr>\n",
       "    <tr>\n",
       "      <th>male</th>\n",
       "      <td>1</td>\n",
       "      <td>4</td>\n",
       "      <td>0</td>\n",
       "      <td>1</td>\n",
       "      <td>0</td>\n",
       "      <td>7</td>\n",
       "      <td>1</td>\n",
       "      <td>0</td>\n",
       "      <td>2</td>\n",
       "      <td>61</td>\n",
       "      <td>0</td>\n",
       "      <td>0</td>\n",
       "      <td>0</td>\n",
       "      <td>757</td>\n",
       "      <td>0</td>\n",
       "      <td>0</td>\n",
       "      <td>8</td>\n",
       "      <td>1</td>\n",
       "    </tr>\n",
       "  </tbody>\n",
       "</table>\n",
       "</div>"
      ],
      "text/plain": [
       "Title   Capt  Col  Countess  Don  Dona  Dr  Jonkheer  Lady  Major  Master  \\\n",
       "Sex                                                                         \n",
       "female     0    0         1    0     1   1         0     1      0       0   \n",
       "male       1    4         0    1     0   7         1     0      2      61   \n",
       "\n",
       "Title   Miss  Mlle  Mme   Mr  Mrs  Ms  Rev  Sir  \n",
       "Sex                                              \n",
       "female   260     2    1    0  197   2    0    0  \n",
       "male       0     0    0  757    0   0    8    1  "
      ]
     },
     "execution_count": 22,
     "metadata": {},
     "output_type": "execute_result"
    }
   ],
   "source": [
    "df_data['Title'] = df_data.Name.str.extract(' ([A-Za-z]+)\\.', expand=False)\n",
    "pd.crosstab(df_data['Title'], df_data['Sex']).transpose()"
   ]
  },
  {
   "cell_type": "code",
   "execution_count": 23,
   "id": "d90e11db",
   "metadata": {
    "execution": {
     "iopub.execute_input": "2022-06-30T09:47:33.410892Z",
     "iopub.status.busy": "2022-06-30T09:47:33.410475Z",
     "iopub.status.idle": "2022-06-30T09:47:33.442085Z",
     "shell.execute_reply": "2022-06-30T09:47:33.440957Z"
    },
    "papermill": {
     "duration": 0.05932,
     "end_time": "2022-06-30T09:47:33.444653",
     "exception": false,
     "start_time": "2022-06-30T09:47:33.385333",
     "status": "completed"
    },
    "tags": []
   },
   "outputs": [
    {
     "data": {
      "text/html": [
       "<div>\n",
       "<style scoped>\n",
       "    .dataframe tbody tr th:only-of-type {\n",
       "        vertical-align: middle;\n",
       "    }\n",
       "\n",
       "    .dataframe tbody tr th {\n",
       "        vertical-align: top;\n",
       "    }\n",
       "\n",
       "    .dataframe thead th {\n",
       "        text-align: right;\n",
       "    }\n",
       "</style>\n",
       "<table border=\"1\" class=\"dataframe\">\n",
       "  <thead>\n",
       "    <tr style=\"text-align: right;\">\n",
       "      <th>Title</th>\n",
       "      <th>Master</th>\n",
       "      <th>Miss</th>\n",
       "      <th>Mr</th>\n",
       "      <th>Mrs</th>\n",
       "      <th>Rare</th>\n",
       "    </tr>\n",
       "    <tr>\n",
       "      <th>Sex</th>\n",
       "      <th></th>\n",
       "      <th></th>\n",
       "      <th></th>\n",
       "      <th></th>\n",
       "      <th></th>\n",
       "    </tr>\n",
       "  </thead>\n",
       "  <tbody>\n",
       "    <tr>\n",
       "      <th>female</th>\n",
       "      <td>0</td>\n",
       "      <td>264</td>\n",
       "      <td>0</td>\n",
       "      <td>198</td>\n",
       "      <td>4</td>\n",
       "    </tr>\n",
       "    <tr>\n",
       "      <th>male</th>\n",
       "      <td>61</td>\n",
       "      <td>0</td>\n",
       "      <td>757</td>\n",
       "      <td>0</td>\n",
       "      <td>25</td>\n",
       "    </tr>\n",
       "  </tbody>\n",
       "</table>\n",
       "</div>"
      ],
      "text/plain": [
       "Title   Master  Miss   Mr  Mrs  Rare\n",
       "Sex                                 \n",
       "female       0   264    0  198     4\n",
       "male        61     0  757    0    25"
      ]
     },
     "execution_count": 23,
     "metadata": {},
     "output_type": "execute_result"
    }
   ],
   "source": [
    "df_data['Title'] = df_data['Title'].replace(['Lady', 'Countess','Capt', 'Col','Don', 'Dr', 'Major', 'Rev', 'Sir', 'Jonkheer', 'Dona'], 'Rare')\n",
    "df_data['Title'] = df_data['Title'].replace('Mlle', 'Miss')\n",
    "df_data['Title'] = df_data['Title'].replace('Ms', 'Miss')\n",
    "df_data['Title'] = df_data['Title'].replace('Mme', 'Mrs')\n",
    "pd.crosstab(df_data['Title'], df_data['Sex']).transpose()"
   ]
  },
  {
   "cell_type": "markdown",
   "id": "e1d70dcb",
   "metadata": {
    "papermill": {
     "duration": 0.023905,
     "end_time": "2022-06-30T09:47:33.493513",
     "exception": false,
     "start_time": "2022-06-30T09:47:33.469608",
     "status": "completed"
    },
    "tags": []
   },
   "source": [
    "In order to binning continuous features we are going to use 13 quantile base bins for Fare column and 10 bins for Age column:"
   ]
  },
  {
   "cell_type": "code",
   "execution_count": 24,
   "id": "a2b98e28",
   "metadata": {
    "execution": {
     "iopub.execute_input": "2022-06-30T09:47:33.545839Z",
     "iopub.status.busy": "2022-06-30T09:47:33.545462Z",
     "iopub.status.idle": "2022-06-30T09:47:33.558949Z",
     "shell.execute_reply": "2022-06-30T09:47:33.557845Z"
    },
    "papermill": {
     "duration": 0.042894,
     "end_time": "2022-06-30T09:47:33.561647",
     "exception": false,
     "start_time": "2022-06-30T09:47:33.518753",
     "status": "completed"
    },
    "tags": []
   },
   "outputs": [],
   "source": [
    "names = ['1', '2', '3', '4', '5', '6', '7','8','9','10','11','12','13']\n",
    "df_data.Fare = pd.qcut(df_data.Fare, 13 , labels=names)\n",
    "df_data.Fare = pd.to_numeric(df_data.Fare)"
   ]
  },
  {
   "cell_type": "code",
   "execution_count": 25,
   "id": "9822f714",
   "metadata": {
    "execution": {
     "iopub.execute_input": "2022-06-30T09:47:33.623012Z",
     "iopub.status.busy": "2022-06-30T09:47:33.620656Z",
     "iopub.status.idle": "2022-06-30T09:47:33.632441Z",
     "shell.execute_reply": "2022-06-30T09:47:33.631231Z"
    },
    "papermill": {
     "duration": 0.046061,
     "end_time": "2022-06-30T09:47:33.635726",
     "exception": false,
     "start_time": "2022-06-30T09:47:33.589665",
     "status": "completed"
    },
    "tags": []
   },
   "outputs": [],
   "source": [
    "names = ['1','2','3','4','5','6','7','8','9','10']\n",
    "df_data['Age'] = pd.qcut(df_data['Age'], 10, labels = names)"
   ]
  },
  {
   "cell_type": "code",
   "execution_count": 26,
   "id": "254a4865",
   "metadata": {
    "execution": {
     "iopub.execute_input": "2022-06-30T09:47:33.691741Z",
     "iopub.status.busy": "2022-06-30T09:47:33.691012Z",
     "iopub.status.idle": "2022-06-30T09:47:33.698087Z",
     "shell.execute_reply": "2022-06-30T09:47:33.697132Z"
    },
    "papermill": {
     "duration": 0.035892,
     "end_time": "2022-06-30T09:47:33.700464",
     "exception": false,
     "start_time": "2022-06-30T09:47:33.664572",
     "status": "completed"
    },
    "tags": []
   },
   "outputs": [],
   "source": [
    "Remove_List = ['Name','Ticket']\n",
    "df_data.drop(Remove_List, axis=1, inplace=True)"
   ]
  },
  {
   "cell_type": "markdown",
   "id": "1cbef21f",
   "metadata": {
    "papermill": {
     "duration": 0.024478,
     "end_time": "2022-06-30T09:47:33.749742",
     "exception": false,
     "start_time": "2022-06-30T09:47:33.725264",
     "status": "completed"
    },
    "tags": []
   },
   "source": [
    "<a id=\"1\"></a> <br>\n",
    "# 5. Feature Transformation"
   ]
  },
  {
   "cell_type": "markdown",
   "id": "25a07bdf",
   "metadata": {
    "papermill": {
     "duration": 0.024505,
     "end_time": "2022-06-30T09:47:33.800472",
     "exception": false,
     "start_time": "2022-06-30T09:47:33.775967",
     "status": "completed"
    },
    "tags": []
   },
   "source": [
    "Using LabelEncoder, we are going to convert non-numerical features to numerical type. LabelEncoder basically labels the classes from 0 to n. This process is necessary for models to learn from those features."
   ]
  },
  {
   "cell_type": "code",
   "execution_count": 27,
   "id": "58414120",
   "metadata": {
    "execution": {
     "iopub.execute_input": "2022-06-30T09:47:33.854743Z",
     "iopub.status.busy": "2022-06-30T09:47:33.853971Z",
     "iopub.status.idle": "2022-06-30T09:47:33.866352Z",
     "shell.execute_reply": "2022-06-30T09:47:33.865275Z"
    },
    "papermill": {
     "duration": 0.043052,
     "end_time": "2022-06-30T09:47:33.868889",
     "exception": false,
     "start_time": "2022-06-30T09:47:33.825837",
     "status": "completed"
    },
    "tags": []
   },
   "outputs": [],
   "source": [
    "n_col  = [col for col in df_data.columns if df_data[col].dtype=='object']\n",
    "n_col.append('Age')\n",
    "for col in n_col:\n",
    "  df_data[col] = LabelEncoder().fit_transform(df_data[col])"
   ]
  },
  {
   "cell_type": "markdown",
   "id": "a7471dea",
   "metadata": {
    "papermill": {
     "duration": 0.024955,
     "end_time": "2022-06-30T09:47:33.919498",
     "exception": false,
     "start_time": "2022-06-30T09:47:33.894543",
     "status": "completed"
    },
    "tags": []
   },
   "source": [
    "To finish with, we are going to one hot encoded non-ordinal features. Those features are Embarked, Title, FamilyGroup and PClass. Age and Fare as ordinal features are not converted."
   ]
  },
  {
   "cell_type": "code",
   "execution_count": 28,
   "id": "d8570b1a",
   "metadata": {
    "execution": {
     "iopub.execute_input": "2022-06-30T09:47:33.971154Z",
     "iopub.status.busy": "2022-06-30T09:47:33.970408Z",
     "iopub.status.idle": "2022-06-30T09:47:33.985295Z",
     "shell.execute_reply": "2022-06-30T09:47:33.983915Z"
    },
    "papermill": {
     "duration": 0.04404,
     "end_time": "2022-06-30T09:47:33.987981",
     "exception": false,
     "start_time": "2022-06-30T09:47:33.943941",
     "status": "completed"
    },
    "tags": []
   },
   "outputs": [],
   "source": [
    "cat_features = ['Embarked', 'Pclass', 'Title', 'FamilyGroup']\n",
    "for col in cat_features:\n",
    "  one_hot = pd.get_dummies(df_data[col], prefix = col)\n",
    "  df_data = pd.merge(left = df_data, right = one_hot, left_index=True,right_index=True)"
   ]
  },
  {
   "cell_type": "code",
   "execution_count": 29,
   "id": "dbbf6203",
   "metadata": {
    "execution": {
     "iopub.execute_input": "2022-06-30T09:47:34.042167Z",
     "iopub.status.busy": "2022-06-30T09:47:34.040885Z",
     "iopub.status.idle": "2022-06-30T09:47:34.048211Z",
     "shell.execute_reply": "2022-06-30T09:47:34.047305Z"
    },
    "papermill": {
     "duration": 0.036053,
     "end_time": "2022-06-30T09:47:34.050827",
     "exception": false,
     "start_time": "2022-06-30T09:47:34.014774",
     "status": "completed"
    },
    "tags": []
   },
   "outputs": [],
   "source": [
    "df_data.drop(columns=['Embarked','Pclass','Title','FamilyGroup'],inplace=True)"
   ]
  },
  {
   "cell_type": "code",
   "execution_count": 30,
   "id": "3ed2ffdc",
   "metadata": {
    "execution": {
     "iopub.execute_input": "2022-06-30T09:47:34.103526Z",
     "iopub.status.busy": "2022-06-30T09:47:34.102860Z",
     "iopub.status.idle": "2022-06-30T09:47:34.122829Z",
     "shell.execute_reply": "2022-06-30T09:47:34.121975Z"
    },
    "papermill": {
     "duration": 0.049196,
     "end_time": "2022-06-30T09:47:34.125021",
     "exception": false,
     "start_time": "2022-06-30T09:47:34.075825",
     "status": "completed"
    },
    "tags": []
   },
   "outputs": [
    {
     "data": {
      "text/html": [
       "<div>\n",
       "<style scoped>\n",
       "    .dataframe tbody tr th:only-of-type {\n",
       "        vertical-align: middle;\n",
       "    }\n",
       "\n",
       "    .dataframe tbody tr th {\n",
       "        vertical-align: top;\n",
       "    }\n",
       "\n",
       "    .dataframe thead th {\n",
       "        text-align: right;\n",
       "    }\n",
       "</style>\n",
       "<table border=\"1\" class=\"dataframe\">\n",
       "  <thead>\n",
       "    <tr style=\"text-align: right;\">\n",
       "      <th></th>\n",
       "      <th>Survived</th>\n",
       "      <th>Sex</th>\n",
       "      <th>Age</th>\n",
       "      <th>Fare</th>\n",
       "      <th>FamilySize</th>\n",
       "      <th>Alone</th>\n",
       "      <th>Embarked_0</th>\n",
       "      <th>Embarked_1</th>\n",
       "      <th>Embarked_2</th>\n",
       "      <th>Pclass_1</th>\n",
       "      <th>...</th>\n",
       "      <th>Pclass_3</th>\n",
       "      <th>Title_0</th>\n",
       "      <th>Title_1</th>\n",
       "      <th>Title_2</th>\n",
       "      <th>Title_3</th>\n",
       "      <th>Title_4</th>\n",
       "      <th>FamilyGroup_0</th>\n",
       "      <th>FamilyGroup_1</th>\n",
       "      <th>FamilyGroup_2</th>\n",
       "      <th>FamilyGroup_3</th>\n",
       "    </tr>\n",
       "    <tr>\n",
       "      <th>PassengerId</th>\n",
       "      <th></th>\n",
       "      <th></th>\n",
       "      <th></th>\n",
       "      <th></th>\n",
       "      <th></th>\n",
       "      <th></th>\n",
       "      <th></th>\n",
       "      <th></th>\n",
       "      <th></th>\n",
       "      <th></th>\n",
       "      <th></th>\n",
       "      <th></th>\n",
       "      <th></th>\n",
       "      <th></th>\n",
       "      <th></th>\n",
       "      <th></th>\n",
       "      <th></th>\n",
       "      <th></th>\n",
       "      <th></th>\n",
       "      <th></th>\n",
       "      <th></th>\n",
       "    </tr>\n",
       "  </thead>\n",
       "  <tbody>\n",
       "    <tr>\n",
       "      <th>1</th>\n",
       "      <td>0.0</td>\n",
       "      <td>1</td>\n",
       "      <td>3</td>\n",
       "      <td>1</td>\n",
       "      <td>2</td>\n",
       "      <td>0</td>\n",
       "      <td>0</td>\n",
       "      <td>0</td>\n",
       "      <td>1</td>\n",
       "      <td>0</td>\n",
       "      <td>...</td>\n",
       "      <td>1</td>\n",
       "      <td>0</td>\n",
       "      <td>0</td>\n",
       "      <td>1</td>\n",
       "      <td>0</td>\n",
       "      <td>0</td>\n",
       "      <td>0</td>\n",
       "      <td>0</td>\n",
       "      <td>0</td>\n",
       "      <td>1</td>\n",
       "    </tr>\n",
       "    <tr>\n",
       "      <th>2</th>\n",
       "      <td>1.0</td>\n",
       "      <td>0</td>\n",
       "      <td>8</td>\n",
       "      <td>12</td>\n",
       "      <td>2</td>\n",
       "      <td>0</td>\n",
       "      <td>1</td>\n",
       "      <td>0</td>\n",
       "      <td>0</td>\n",
       "      <td>1</td>\n",
       "      <td>...</td>\n",
       "      <td>0</td>\n",
       "      <td>0</td>\n",
       "      <td>0</td>\n",
       "      <td>0</td>\n",
       "      <td>1</td>\n",
       "      <td>0</td>\n",
       "      <td>0</td>\n",
       "      <td>0</td>\n",
       "      <td>0</td>\n",
       "      <td>1</td>\n",
       "    </tr>\n",
       "    <tr>\n",
       "      <th>3</th>\n",
       "      <td>1.0</td>\n",
       "      <td>0</td>\n",
       "      <td>5</td>\n",
       "      <td>4</td>\n",
       "      <td>1</td>\n",
       "      <td>1</td>\n",
       "      <td>0</td>\n",
       "      <td>0</td>\n",
       "      <td>1</td>\n",
       "      <td>0</td>\n",
       "      <td>...</td>\n",
       "      <td>1</td>\n",
       "      <td>0</td>\n",
       "      <td>1</td>\n",
       "      <td>0</td>\n",
       "      <td>0</td>\n",
       "      <td>0</td>\n",
       "      <td>1</td>\n",
       "      <td>0</td>\n",
       "      <td>0</td>\n",
       "      <td>0</td>\n",
       "    </tr>\n",
       "    <tr>\n",
       "      <th>4</th>\n",
       "      <td>1.0</td>\n",
       "      <td>0</td>\n",
       "      <td>8</td>\n",
       "      <td>11</td>\n",
       "      <td>2</td>\n",
       "      <td>0</td>\n",
       "      <td>0</td>\n",
       "      <td>0</td>\n",
       "      <td>1</td>\n",
       "      <td>1</td>\n",
       "      <td>...</td>\n",
       "      <td>0</td>\n",
       "      <td>0</td>\n",
       "      <td>0</td>\n",
       "      <td>0</td>\n",
       "      <td>1</td>\n",
       "      <td>0</td>\n",
       "      <td>0</td>\n",
       "      <td>0</td>\n",
       "      <td>0</td>\n",
       "      <td>1</td>\n",
       "    </tr>\n",
       "    <tr>\n",
       "      <th>5</th>\n",
       "      <td>0.0</td>\n",
       "      <td>1</td>\n",
       "      <td>8</td>\n",
       "      <td>4</td>\n",
       "      <td>1</td>\n",
       "      <td>1</td>\n",
       "      <td>0</td>\n",
       "      <td>0</td>\n",
       "      <td>1</td>\n",
       "      <td>0</td>\n",
       "      <td>...</td>\n",
       "      <td>1</td>\n",
       "      <td>0</td>\n",
       "      <td>0</td>\n",
       "      <td>1</td>\n",
       "      <td>0</td>\n",
       "      <td>0</td>\n",
       "      <td>1</td>\n",
       "      <td>0</td>\n",
       "      <td>0</td>\n",
       "      <td>0</td>\n",
       "    </tr>\n",
       "  </tbody>\n",
       "</table>\n",
       "<p>5 rows × 21 columns</p>\n",
       "</div>"
      ],
      "text/plain": [
       "             Survived  Sex  Age  Fare  FamilySize  Alone  Embarked_0  \\\n",
       "PassengerId                                                            \n",
       "1                 0.0    1    3     1           2      0           0   \n",
       "2                 1.0    0    8    12           2      0           1   \n",
       "3                 1.0    0    5     4           1      1           0   \n",
       "4                 1.0    0    8    11           2      0           0   \n",
       "5                 0.0    1    8     4           1      1           0   \n",
       "\n",
       "             Embarked_1  Embarked_2  Pclass_1  ...  Pclass_3  Title_0  \\\n",
       "PassengerId                                    ...                      \n",
       "1                     0           1         0  ...         1        0   \n",
       "2                     0           0         1  ...         0        0   \n",
       "3                     0           1         0  ...         1        0   \n",
       "4                     0           1         1  ...         0        0   \n",
       "5                     0           1         0  ...         1        0   \n",
       "\n",
       "             Title_1  Title_2  Title_3  Title_4  FamilyGroup_0  FamilyGroup_1  \\\n",
       "PassengerId                                                                     \n",
       "1                  0        1        0        0              0              0   \n",
       "2                  0        0        1        0              0              0   \n",
       "3                  1        0        0        0              1              0   \n",
       "4                  0        0        1        0              0              0   \n",
       "5                  0        1        0        0              1              0   \n",
       "\n",
       "             FamilyGroup_2  FamilyGroup_3  \n",
       "PassengerId                                \n",
       "1                        0              1  \n",
       "2                        0              1  \n",
       "3                        0              0  \n",
       "4                        0              1  \n",
       "5                        0              0  \n",
       "\n",
       "[5 rows x 21 columns]"
      ]
     },
     "execution_count": 30,
     "metadata": {},
     "output_type": "execute_result"
    }
   ],
   "source": [
    "df_data.head(5)"
   ]
  },
  {
   "cell_type": "markdown",
   "id": "8a1ab6bc",
   "metadata": {
    "papermill": {
     "duration": 0.023931,
     "end_time": "2022-06-30T09:47:34.174024",
     "exception": false,
     "start_time": "2022-06-30T09:47:34.150093",
     "status": "completed"
    },
    "tags": []
   },
   "source": [
    "<a id=\"1\"></a> <br>\n",
    "# 6. Modeling\n"
   ]
  },
  {
   "cell_type": "code",
   "execution_count": 31,
   "id": "50641a7d",
   "metadata": {
    "execution": {
     "iopub.execute_input": "2022-06-30T09:47:34.227537Z",
     "iopub.status.busy": "2022-06-30T09:47:34.226857Z",
     "iopub.status.idle": "2022-06-30T09:47:34.235575Z",
     "shell.execute_reply": "2022-06-30T09:47:34.234098Z"
    },
    "papermill": {
     "duration": 0.037434,
     "end_time": "2022-06-30T09:47:34.238097",
     "exception": false,
     "start_time": "2022-06-30T09:47:34.200663",
     "status": "completed"
    },
    "tags": []
   },
   "outputs": [],
   "source": [
    "# ٍExtract Train and Test Data from df_data\n",
    "df_train = df_data[df_data.Survived.isnull()==False]\n",
    "df_test = df_data[df_data.Survived.isnull()==True]\n",
    "df_test= df_test.drop('Survived',axis=1)"
   ]
  },
  {
   "cell_type": "code",
   "execution_count": 32,
   "id": "6d9de88f",
   "metadata": {
    "execution": {
     "iopub.execute_input": "2022-06-30T09:47:34.290035Z",
     "iopub.status.busy": "2022-06-30T09:47:34.289354Z",
     "iopub.status.idle": "2022-06-30T09:47:34.294428Z",
     "shell.execute_reply": "2022-06-30T09:47:34.293654Z"
    },
    "papermill": {
     "duration": 0.034339,
     "end_time": "2022-06-30T09:47:34.297597",
     "exception": false,
     "start_time": "2022-06-30T09:47:34.263258",
     "status": "completed"
    },
    "tags": []
   },
   "outputs": [],
   "source": [
    "df_train.Survived = df_train.Survived.astype('int')\t"
   ]
  },
  {
   "cell_type": "code",
   "execution_count": 33,
   "id": "766845af",
   "metadata": {
    "execution": {
     "iopub.execute_input": "2022-06-30T09:47:34.348611Z",
     "iopub.status.busy": "2022-06-30T09:47:34.347923Z",
     "iopub.status.idle": "2022-06-30T09:47:34.353473Z",
     "shell.execute_reply": "2022-06-30T09:47:34.352709Z"
    },
    "papermill": {
     "duration": 0.033316,
     "end_time": "2022-06-30T09:47:34.355650",
     "exception": false,
     "start_time": "2022-06-30T09:47:34.322334",
     "status": "completed"
    },
    "tags": []
   },
   "outputs": [],
   "source": [
    "X = df_train.drop('Survived',axis=1)\n",
    "y = df_train.Survived"
   ]
  },
  {
   "cell_type": "markdown",
   "id": "9fadc5fb",
   "metadata": {
    "papermill": {
     "duration": 0.023791,
     "end_time": "2022-06-30T09:47:34.403671",
     "exception": false,
     "start_time": "2022-06-30T09:47:34.379880",
     "status": "completed"
    },
    "tags": []
   },
   "source": [
    "**Using Keras to Build and Train Neural Networks**"
   ]
  },
  {
   "cell_type": "code",
   "execution_count": 34,
   "id": "7b9e7d4b",
   "metadata": {
    "execution": {
     "iopub.execute_input": "2022-06-30T09:47:34.455423Z",
     "iopub.status.busy": "2022-06-30T09:47:34.454752Z",
     "iopub.status.idle": "2022-06-30T09:47:34.461094Z",
     "shell.execute_reply": "2022-06-30T09:47:34.460320Z"
    },
    "papermill": {
     "duration": 0.034781,
     "end_time": "2022-06-30T09:47:34.463369",
     "exception": false,
     "start_time": "2022-06-30T09:47:34.428588",
     "status": "completed"
    },
    "tags": []
   },
   "outputs": [],
   "source": [
    "# Split the data to Train, and Test (75%, 25%)\n",
    "X_train,X_test,y_train,y_test = train_test_split(X,y,test_size=0.25, random_state=42)"
   ]
  },
  {
   "cell_type": "markdown",
   "id": "adebb196",
   "metadata": {
    "papermill": {
     "duration": 0.027886,
     "end_time": "2022-06-30T09:47:34.516737",
     "exception": false,
     "start_time": "2022-06-30T09:47:34.488851",
     "status": "completed"
    },
    "tags": []
   },
   "source": [
    "Get a baseline performance using Random Forest"
   ]
  },
  {
   "cell_type": "markdown",
   "id": "0d4d0df4",
   "metadata": {
    "papermill": {
     "duration": 0.026131,
     "end_time": "2022-06-30T09:47:34.567331",
     "exception": false,
     "start_time": "2022-06-30T09:47:34.541200",
     "status": "completed"
    },
    "tags": []
   },
   "source": [
    "To begin, and get a baseline for classifier performance:\n",
    "\n",
    "    Train a Random Forest model with 200 trees on the training data.\n",
    "    Calculate the accuracy and roc_auc_score of the predictions.\n",
    "\n"
   ]
  },
  {
   "cell_type": "code",
   "execution_count": 35,
   "id": "32d1d816",
   "metadata": {
    "execution": {
     "iopub.execute_input": "2022-06-30T09:47:34.619295Z",
     "iopub.status.busy": "2022-06-30T09:47:34.618559Z",
     "iopub.status.idle": "2022-06-30T09:47:35.042470Z",
     "shell.execute_reply": "2022-06-30T09:47:35.041236Z"
    },
    "papermill": {
     "duration": 0.45271,
     "end_time": "2022-06-30T09:47:35.045079",
     "exception": false,
     "start_time": "2022-06-30T09:47:34.592369",
     "status": "completed"
    },
    "tags": []
   },
   "outputs": [
    {
     "data": {
      "text/plain": [
       "RandomForestClassifier(n_estimators=200)"
      ]
     },
     "execution_count": 35,
     "metadata": {},
     "output_type": "execute_result"
    }
   ],
   "source": [
    "## Train the RF Model\n",
    "RF = RandomForestClassifier(n_estimators=200)\n",
    "RF.fit(X_train,y_train)"
   ]
  },
  {
   "cell_type": "code",
   "execution_count": 36,
   "id": "049b0809",
   "metadata": {
    "execution": {
     "iopub.execute_input": "2022-06-30T09:47:35.102649Z",
     "iopub.status.busy": "2022-06-30T09:47:35.102261Z",
     "iopub.status.idle": "2022-06-30T09:47:35.173169Z",
     "shell.execute_reply": "2022-06-30T09:47:35.171984Z"
    },
    "papermill": {
     "duration": 0.106113,
     "end_time": "2022-06-30T09:47:35.176238",
     "exception": false,
     "start_time": "2022-06-30T09:47:35.070125",
     "status": "completed"
    },
    "tags": []
   },
   "outputs": [],
   "source": [
    "# Make predictions on the test set - both \"hard\" predictions, and the scores (percent of trees voting yes)\n",
    "y_pred = RF.predict(X_test)\n",
    "y_pred_proba = RF.predict_proba(X_test)"
   ]
  },
  {
   "cell_type": "code",
   "execution_count": 37,
   "id": "1deb7b93",
   "metadata": {
    "execution": {
     "iopub.execute_input": "2022-06-30T09:47:35.231210Z",
     "iopub.status.busy": "2022-06-30T09:47:35.230813Z",
     "iopub.status.idle": "2022-06-30T09:47:35.241466Z",
     "shell.execute_reply": "2022-06-30T09:47:35.239596Z"
    },
    "papermill": {
     "duration": 0.039183,
     "end_time": "2022-06-30T09:47:35.244048",
     "exception": false,
     "start_time": "2022-06-30T09:47:35.204865",
     "status": "completed"
    },
    "tags": []
   },
   "outputs": [
    {
     "name": "stdout",
     "output_type": "stream",
     "text": [
      "accuracy is 0.825\n",
      "roc-auc is 0.868\n"
     ]
    }
   ],
   "source": [
    "print('accuracy is {:.3f}'.format(accuracy_score(y_test,y_pred)))\n",
    "print('roc-auc is {:.3f}'.format(roc_auc_score(y_test,y_pred_proba[:,1])))"
   ]
  },
  {
   "cell_type": "code",
   "execution_count": 38,
   "id": "36f5e01b",
   "metadata": {
    "execution": {
     "iopub.execute_input": "2022-06-30T09:47:35.295615Z",
     "iopub.status.busy": "2022-06-30T09:47:35.294440Z",
     "iopub.status.idle": "2022-06-30T09:47:35.500207Z",
     "shell.execute_reply": "2022-06-30T09:47:35.499098Z"
    },
    "papermill": {
     "duration": 0.234453,
     "end_time": "2022-06-30T09:47:35.502836",
     "exception": false,
     "start_time": "2022-06-30T09:47:35.268383",
     "status": "completed"
    },
    "tags": []
   },
   "outputs": [
    {
     "data": {
      "image/png": "[encoded data removed]",
      "text/plain": [
       "<Figure size 576x576 with 1 Axes>"
      ]
     },
     "metadata": {
      "needs_background": "light"
     },
     "output_type": "display_data"
    }
   ],
   "source": [
    "def plot_roc(y_test, y_pred, model_name):\n",
    "    fpr, tpr, thr = roc_curve(y_test, y_pred)\n",
    "    fig, ax = plt.subplots(figsize=(8, 8))\n",
    "    ax.plot(fpr, tpr, 'k-')\n",
    "    ax.plot([0, 1], [0, 1], 'k--', linewidth=.5)  # roc curve for random model\n",
    "    ax.grid(True)\n",
    "    ax.set(title='ROC Curve for {} on Titanic dataset'.format(model_name),\n",
    "           xlim=[-0.01, 1.01], ylim=[-0.01, 1.01])\n",
    "plot_roc(y_test, y_pred_proba[:, 1], 'RF')\n",
    "### END SOLUTION"
   ]
  },
  {
   "cell_type": "markdown",
   "id": "c1338b37",
   "metadata": {
    "papermill": {
     "duration": 0.026063,
     "end_time": "2022-06-30T09:47:35.554853",
     "exception": false,
     "start_time": "2022-06-30T09:47:35.528790",
     "status": "completed"
    },
    "tags": []
   },
   "source": [
    "**Build a Single Hidden Layer Neural Network**"
   ]
  },
  {
   "cell_type": "code",
   "execution_count": 39,
   "id": "a058b723",
   "metadata": {
    "execution": {
     "iopub.execute_input": "2022-06-30T09:47:35.609979Z",
     "iopub.status.busy": "2022-06-30T09:47:35.608706Z",
     "iopub.status.idle": "2022-06-30T09:47:35.622156Z",
     "shell.execute_reply": "2022-06-30T09:47:35.621212Z"
    },
    "papermill": {
     "duration": 0.043529,
     "end_time": "2022-06-30T09:47:35.624943",
     "exception": false,
     "start_time": "2022-06-30T09:47:35.581414",
     "status": "completed"
    },
    "tags": []
   },
   "outputs": [],
   "source": [
    "## First let's normalize the data\n",
    "SC = StandardScaler()\n",
    "X_train_norm = SC.fit_transform(X_train)\n",
    "X_test_norm = SC.transform(X_test) "
   ]
  },
  {
   "cell_type": "code",
   "execution_count": 40,
   "id": "e571bc21",
   "metadata": {
    "execution": {
     "iopub.execute_input": "2022-06-30T09:47:35.677440Z",
     "iopub.status.busy": "2022-06-30T09:47:35.676610Z",
     "iopub.status.idle": "2022-06-30T09:47:35.801105Z",
     "shell.execute_reply": "2022-06-30T09:47:35.800032Z"
    },
    "papermill": {
     "duration": 0.153359,
     "end_time": "2022-06-30T09:47:35.803695",
     "exception": false,
     "start_time": "2022-06-30T09:47:35.650336",
     "status": "completed"
    },
    "tags": []
   },
   "outputs": [
    {
     "name": "stderr",
     "output_type": "stream",
     "text": [
      "2022-06-30 09:47:35.717981: I tensorflow/core/common_runtime/process_util.cc:146] Creating new thread pool with default inter op setting: 2. Tune using inter_op_parallelism_threads for best performance.\n"
     ]
    }
   ],
   "source": [
    "# Define the Model \n",
    "# Input size is 20-dimensional\n",
    "# 1 hidden layer, 12 hidden nodes, sigmoid activation\n",
    "# Final layer has just one node with a sigmoid activation (standard for binary classification)\n",
    "model_1 = models.Sequential()\n",
    "model_1.add(layers.Dense(12, activation='sigmoid', input_shape=(20,)))\n",
    "model_1.add(layers.Dense(1, activation='sigmoid'))"
   ]
  },
  {
   "cell_type": "code",
   "execution_count": 41,
   "id": "6b758049",
   "metadata": {
    "execution": {
     "iopub.execute_input": "2022-06-30T09:47:35.857654Z",
     "iopub.status.busy": "2022-06-30T09:47:35.856349Z",
     "iopub.status.idle": "2022-06-30T09:47:35.863612Z",
     "shell.execute_reply": "2022-06-30T09:47:35.862368Z"
    },
    "papermill": {
     "duration": 0.038366,
     "end_time": "2022-06-30T09:47:35.867650",
     "exception": false,
     "start_time": "2022-06-30T09:47:35.829284",
     "status": "completed"
    },
    "tags": []
   },
   "outputs": [
    {
     "name": "stdout",
     "output_type": "stream",
     "text": [
      "Model: \"sequential\"\n",
      "_________________________________________________________________\n",
      "Layer (type)                 Output Shape              Param #   \n",
      "=================================================================\n",
      "dense (Dense)                (None, 12)                252       \n",
      "_________________________________________________________________\n",
      "dense_1 (Dense)              (None, 1)                 13        \n",
      "=================================================================\n",
      "Total params: 265\n",
      "Trainable params: 265\n",
      "Non-trainable params: 0\n",
      "_________________________________________________________________\n"
     ]
    }
   ],
   "source": [
    "#  This is a nice tool to view the model you have created and count the parameters\n",
    "model_1.summary()"
   ]
  },
  {
   "cell_type": "code",
   "execution_count": 42,
   "id": "1411f269",
   "metadata": {
    "execution": {
     "iopub.execute_input": "2022-06-30T09:47:35.920612Z",
     "iopub.status.busy": "2022-06-30T09:47:35.919871Z",
     "iopub.status.idle": "2022-06-30T09:47:53.176584Z",
     "shell.execute_reply": "2022-06-30T09:47:53.175394Z"
    },
    "papermill": {
     "duration": 17.286117,
     "end_time": "2022-06-30T09:47:53.179142",
     "exception": false,
     "start_time": "2022-06-30T09:47:35.893025",
     "status": "completed"
    },
    "tags": []
   },
   "outputs": [
    {
     "name": "stderr",
     "output_type": "stream",
     "text": [
      "2022-06-30 09:47:36.022363: I tensorflow/compiler/mlir/mlir_graph_optimization_pass.cc:185] None of the MLIR Optimization Passes are enabled (registered 2)\n"
     ]
    },
    {
     "name": "stdout",
     "output_type": "stream",
     "text": [
      "Epoch 1/200\n",
      "21/21 [==============================] - 1s 13ms/step - loss: 0.6573 - accuracy: 0.6512 - val_loss: 0.6341 - val_accuracy: 0.7265\n",
      "Epoch 2/200\n",
      "21/21 [==============================] - 0s 3ms/step - loss: 0.6523 - accuracy: 0.6737 - val_loss: 0.6297 - val_accuracy: 0.7399\n",
      "Epoch 3/200\n",
      "21/21 [==============================] - 0s 4ms/step - loss: 0.6476 - accuracy: 0.6781 - val_loss: 0.6257 - val_accuracy: 0.7130\n",
      "Epoch 4/200\n",
      "21/21 [==============================] - 0s 4ms/step - loss: 0.6434 - accuracy: 0.6946 - val_loss: 0.6221 - val_accuracy: 0.7130\n",
      "Epoch 5/200\n",
      "21/21 [==============================] - 0s 4ms/step - loss: 0.6396 - accuracy: 0.7141 - val_loss: 0.6187 - val_accuracy: 0.7220\n",
      "Epoch 6/200\n",
      "21/21 [==============================] - 0s 3ms/step - loss: 0.6360 - accuracy: 0.7126 - val_loss: 0.6156 - val_accuracy: 0.7399\n",
      "Epoch 7/200\n",
      "21/21 [==============================] - 0s 3ms/step - loss: 0.6327 - accuracy: 0.7096 - val_loss: 0.6127 - val_accuracy: 0.7309\n",
      "Epoch 8/200\n",
      "21/21 [==============================] - 0s 3ms/step - loss: 0.6296 - accuracy: 0.6991 - val_loss: 0.6100 - val_accuracy: 0.7265\n",
      "Epoch 9/200\n",
      "21/21 [==============================] - 0s 4ms/step - loss: 0.6267 - accuracy: 0.6916 - val_loss: 0.6074 - val_accuracy: 0.7085\n",
      "Epoch 10/200\n",
      "21/21 [==============================] - 0s 4ms/step - loss: 0.6240 - accuracy: 0.6871 - val_loss: 0.6051 - val_accuracy: 0.7085\n",
      "Epoch 11/200\n",
      "21/21 [==============================] - 0s 4ms/step - loss: 0.6215 - accuracy: 0.6856 - val_loss: 0.6028 - val_accuracy: 0.7040\n",
      "Epoch 12/200\n",
      "21/21 [==============================] - 0s 4ms/step - loss: 0.6191 - accuracy: 0.6796 - val_loss: 0.6007 - val_accuracy: 0.7085\n",
      "Epoch 13/200\n",
      "21/21 [==============================] - 0s 4ms/step - loss: 0.6168 - accuracy: 0.6751 - val_loss: 0.5987 - val_accuracy: 0.7130\n",
      "Epoch 14/200\n",
      "21/21 [==============================] - 0s 4ms/step - loss: 0.6146 - accuracy: 0.6737 - val_loss: 0.5967 - val_accuracy: 0.7085\n",
      "Epoch 15/200\n",
      "21/21 [==============================] - 0s 3ms/step - loss: 0.6126 - accuracy: 0.6796 - val_loss: 0.5949 - val_accuracy: 0.7085\n",
      "Epoch 16/200\n",
      "21/21 [==============================] - 0s 3ms/step - loss: 0.6106 - accuracy: 0.6811 - val_loss: 0.5931 - val_accuracy: 0.7130\n",
      "Epoch 17/200\n",
      "21/21 [==============================] - 0s 4ms/step - loss: 0.6087 - accuracy: 0.6826 - val_loss: 0.5914 - val_accuracy: 0.7265\n",
      "Epoch 18/200\n",
      "21/21 [==============================] - 0s 4ms/step - loss: 0.6069 - accuracy: 0.6811 - val_loss: 0.5898 - val_accuracy: 0.7220\n",
      "Epoch 19/200\n",
      "21/21 [==============================] - 0s 4ms/step - loss: 0.6052 - accuracy: 0.6841 - val_loss: 0.5882 - val_accuracy: 0.7309\n",
      "Epoch 20/200\n",
      "21/21 [==============================] - 0s 4ms/step - loss: 0.6035 - accuracy: 0.6931 - val_loss: 0.5866 - val_accuracy: 0.7220\n",
      "Epoch 21/200\n",
      "21/21 [==============================] - 0s 5ms/step - loss: 0.6019 - accuracy: 0.6976 - val_loss: 0.5851 - val_accuracy: 0.7220\n",
      "Epoch 22/200\n",
      "21/21 [==============================] - 0s 5ms/step - loss: 0.6003 - accuracy: 0.6991 - val_loss: 0.5837 - val_accuracy: 0.7175\n",
      "Epoch 23/200\n",
      "21/21 [==============================] - 0s 7ms/step - loss: 0.5988 - accuracy: 0.7021 - val_loss: 0.5822 - val_accuracy: 0.7085\n",
      "Epoch 24/200\n",
      "21/21 [==============================] - 0s 7ms/step - loss: 0.5972 - accuracy: 0.7036 - val_loss: 0.5808 - val_accuracy: 0.7130\n",
      "Epoch 25/200\n",
      "21/21 [==============================] - 0s 6ms/step - loss: 0.5958 - accuracy: 0.7066 - val_loss: 0.5795 - val_accuracy: 0.7130\n",
      "Epoch 26/200\n",
      "21/21 [==============================] - 0s 4ms/step - loss: 0.5944 - accuracy: 0.7081 - val_loss: 0.5781 - val_accuracy: 0.7130\n",
      "Epoch 27/200\n",
      "21/21 [==============================] - 0s 3ms/step - loss: 0.5930 - accuracy: 0.7081 - val_loss: 0.5768 - val_accuracy: 0.7130\n",
      "Epoch 28/200\n",
      "21/21 [==============================] - 0s 3ms/step - loss: 0.5916 - accuracy: 0.7096 - val_loss: 0.5755 - val_accuracy: 0.7220\n",
      "Epoch 29/200\n",
      "21/21 [==============================] - 0s 3ms/step - loss: 0.5902 - accuracy: 0.7111 - val_loss: 0.5742 - val_accuracy: 0.7220\n",
      "Epoch 30/200\n",
      "21/21 [==============================] - 0s 4ms/step - loss: 0.5889 - accuracy: 0.7096 - val_loss: 0.5729 - val_accuracy: 0.7265\n",
      "Epoch 31/200\n",
      "21/21 [==============================] - 0s 4ms/step - loss: 0.5876 - accuracy: 0.7111 - val_loss: 0.5716 - val_accuracy: 0.7265\n",
      "Epoch 32/200\n",
      "21/21 [==============================] - 0s 4ms/step - loss: 0.5863 - accuracy: 0.7096 - val_loss: 0.5704 - val_accuracy: 0.7265\n",
      "Epoch 33/200\n",
      "21/21 [==============================] - 0s 3ms/step - loss: 0.5850 - accuracy: 0.7171 - val_loss: 0.5692 - val_accuracy: 0.7265\n",
      "Epoch 34/200\n",
      "21/21 [==============================] - 0s 4ms/step - loss: 0.5838 - accuracy: 0.7171 - val_loss: 0.5680 - val_accuracy: 0.7175\n",
      "Epoch 35/200\n",
      "21/21 [==============================] - 0s 3ms/step - loss: 0.5825 - accuracy: 0.7186 - val_loss: 0.5668 - val_accuracy: 0.7175\n",
      "Epoch 36/200\n",
      "21/21 [==============================] - 0s 3ms/step - loss: 0.5813 - accuracy: 0.7201 - val_loss: 0.5656 - val_accuracy: 0.7220\n",
      "Epoch 37/200\n",
      "21/21 [==============================] - 0s 3ms/step - loss: 0.5801 - accuracy: 0.7216 - val_loss: 0.5644 - val_accuracy: 0.7220\n",
      "Epoch 38/200\n",
      "21/21 [==============================] - 0s 4ms/step - loss: 0.5789 - accuracy: 0.7260 - val_loss: 0.5633 - val_accuracy: 0.7265\n",
      "Epoch 39/200\n",
      "21/21 [==============================] - 0s 4ms/step - loss: 0.5777 - accuracy: 0.7320 - val_loss: 0.5621 - val_accuracy: 0.7309\n",
      "Epoch 40/200\n",
      "21/21 [==============================] - 0s 4ms/step - loss: 0.5766 - accuracy: 0.7365 - val_loss: 0.5610 - val_accuracy: 0.7354\n",
      "Epoch 41/200\n",
      "21/21 [==============================] - 0s 4ms/step - loss: 0.5754 - accuracy: 0.7380 - val_loss: 0.5599 - val_accuracy: 0.7309\n",
      "Epoch 42/200\n",
      "21/21 [==============================] - 0s 3ms/step - loss: 0.5743 - accuracy: 0.7410 - val_loss: 0.5588 - val_accuracy: 0.7354\n",
      "Epoch 43/200\n",
      "21/21 [==============================] - 0s 14ms/step - loss: 0.5732 - accuracy: 0.7425 - val_loss: 0.5577 - val_accuracy: 0.7399\n",
      "Epoch 44/200\n",
      "21/21 [==============================] - 0s 4ms/step - loss: 0.5720 - accuracy: 0.7425 - val_loss: 0.5566 - val_accuracy: 0.7399\n",
      "Epoch 45/200\n",
      "21/21 [==============================] - 0s 3ms/step - loss: 0.5709 - accuracy: 0.7425 - val_loss: 0.5555 - val_accuracy: 0.7399\n",
      "Epoch 46/200\n",
      "21/21 [==============================] - 0s 4ms/step - loss: 0.5698 - accuracy: 0.7455 - val_loss: 0.5544 - val_accuracy: 0.7444\n",
      "Epoch 47/200\n",
      "21/21 [==============================] - 0s 3ms/step - loss: 0.5687 - accuracy: 0.7485 - val_loss: 0.5533 - val_accuracy: 0.7399\n",
      "Epoch 48/200\n",
      "21/21 [==============================] - 0s 4ms/step - loss: 0.5676 - accuracy: 0.7515 - val_loss: 0.5523 - val_accuracy: 0.7399\n",
      "Epoch 49/200\n",
      "21/21 [==============================] - 0s 3ms/step - loss: 0.5666 - accuracy: 0.7560 - val_loss: 0.5512 - val_accuracy: 0.7444\n",
      "Epoch 50/200\n",
      "21/21 [==============================] - 0s 3ms/step - loss: 0.5655 - accuracy: 0.7560 - val_loss: 0.5502 - val_accuracy: 0.7534\n",
      "Epoch 51/200\n",
      "21/21 [==============================] - 0s 4ms/step - loss: 0.5645 - accuracy: 0.7575 - val_loss: 0.5492 - val_accuracy: 0.7489\n",
      "Epoch 52/200\n",
      "21/21 [==============================] - 0s 3ms/step - loss: 0.5635 - accuracy: 0.7590 - val_loss: 0.5482 - val_accuracy: 0.7489\n",
      "Epoch 53/200\n",
      "21/21 [==============================] - 0s 3ms/step - loss: 0.5624 - accuracy: 0.7605 - val_loss: 0.5471 - val_accuracy: 0.7489\n",
      "Epoch 54/200\n",
      "21/21 [==============================] - 0s 3ms/step - loss: 0.5614 - accuracy: 0.7620 - val_loss: 0.5461 - val_accuracy: 0.7489\n",
      "Epoch 55/200\n",
      "21/21 [==============================] - 0s 4ms/step - loss: 0.5604 - accuracy: 0.7635 - val_loss: 0.5451 - val_accuracy: 0.7444\n",
      "Epoch 56/200\n",
      "21/21 [==============================] - 0s 4ms/step - loss: 0.5594 - accuracy: 0.7650 - val_loss: 0.5441 - val_accuracy: 0.7444\n",
      "Epoch 57/200\n",
      "21/21 [==============================] - 0s 4ms/step - loss: 0.5584 - accuracy: 0.7635 - val_loss: 0.5432 - val_accuracy: 0.7444\n",
      "Epoch 58/200\n",
      "21/21 [==============================] - 0s 4ms/step - loss: 0.5574 - accuracy: 0.7620 - val_loss: 0.5422 - val_accuracy: 0.7444\n",
      "Epoch 59/200\n",
      "21/21 [==============================] - 0s 4ms/step - loss: 0.5564 - accuracy: 0.7650 - val_loss: 0.5412 - val_accuracy: 0.7444\n",
      "Epoch 60/200\n",
      "21/21 [==============================] - 0s 4ms/step - loss: 0.5554 - accuracy: 0.7650 - val_loss: 0.5402 - val_accuracy: 0.7444\n",
      "Epoch 61/200\n",
      "21/21 [==============================] - 0s 4ms/step - loss: 0.5545 - accuracy: 0.7635 - val_loss: 0.5393 - val_accuracy: 0.7444\n",
      "Epoch 62/200\n",
      "21/21 [==============================] - 0s 4ms/step - loss: 0.5535 - accuracy: 0.7620 - val_loss: 0.5384 - val_accuracy: 0.7444\n",
      "Epoch 63/200\n",
      "21/21 [==============================] - 0s 4ms/step - loss: 0.5526 - accuracy: 0.7605 - val_loss: 0.5374 - val_accuracy: 0.7444\n",
      "Epoch 64/200\n",
      "21/21 [==============================] - 0s 4ms/step - loss: 0.5516 - accuracy: 0.7605 - val_loss: 0.5365 - val_accuracy: 0.7444\n",
      "Epoch 65/200\n",
      "21/21 [==============================] - 0s 4ms/step - loss: 0.5507 - accuracy: 0.7605 - val_loss: 0.5356 - val_accuracy: 0.7534\n",
      "Epoch 66/200\n",
      "21/21 [==============================] - 0s 3ms/step - loss: 0.5497 - accuracy: 0.7620 - val_loss: 0.5347 - val_accuracy: 0.7534\n",
      "Epoch 67/200\n",
      "21/21 [==============================] - 0s 4ms/step - loss: 0.5488 - accuracy: 0.7620 - val_loss: 0.5338 - val_accuracy: 0.7534\n",
      "Epoch 68/200\n",
      "21/21 [==============================] - 0s 4ms/step - loss: 0.5479 - accuracy: 0.7650 - val_loss: 0.5329 - val_accuracy: 0.7534\n",
      "Epoch 69/200\n",
      "21/21 [==============================] - 0s 4ms/step - loss: 0.5470 - accuracy: 0.7650 - val_loss: 0.5320 - val_accuracy: 0.7534\n",
      "Epoch 70/200\n",
      "21/21 [==============================] - 0s 4ms/step - loss: 0.5461 - accuracy: 0.7650 - val_loss: 0.5311 - val_accuracy: 0.7534\n",
      "Epoch 71/200\n",
      "21/21 [==============================] - 0s 4ms/step - loss: 0.5452 - accuracy: 0.7650 - val_loss: 0.5302 - val_accuracy: 0.7534\n",
      "Epoch 72/200\n",
      "21/21 [==============================] - 0s 3ms/step - loss: 0.5443 - accuracy: 0.7650 - val_loss: 0.5293 - val_accuracy: 0.7534\n",
      "Epoch 73/200\n",
      "21/21 [==============================] - 0s 3ms/step - loss: 0.5435 - accuracy: 0.7650 - val_loss: 0.5285 - val_accuracy: 0.7534\n",
      "Epoch 74/200\n",
      "21/21 [==============================] - 0s 4ms/step - loss: 0.5426 - accuracy: 0.7650 - val_loss: 0.5276 - val_accuracy: 0.7534\n",
      "Epoch 75/200\n",
      "21/21 [==============================] - 0s 4ms/step - loss: 0.5417 - accuracy: 0.7650 - val_loss: 0.5268 - val_accuracy: 0.7534\n",
      "Epoch 76/200\n",
      "21/21 [==============================] - 0s 4ms/step - loss: 0.5409 - accuracy: 0.7650 - val_loss: 0.5259 - val_accuracy: 0.7534\n",
      "Epoch 77/200\n",
      "21/21 [==============================] - 0s 4ms/step - loss: 0.5400 - accuracy: 0.7665 - val_loss: 0.5251 - val_accuracy: 0.7578\n",
      "Epoch 78/200\n",
      "21/21 [==============================] - 0s 4ms/step - loss: 0.5392 - accuracy: 0.7650 - val_loss: 0.5243 - val_accuracy: 0.7534\n",
      "Epoch 79/200\n",
      "21/21 [==============================] - 0s 4ms/step - loss: 0.5383 - accuracy: 0.7665 - val_loss: 0.5235 - val_accuracy: 0.7534\n",
      "Epoch 80/200\n",
      "21/21 [==============================] - 0s 4ms/step - loss: 0.5375 - accuracy: 0.7650 - val_loss: 0.5227 - val_accuracy: 0.7534\n",
      "Epoch 81/200\n",
      "21/21 [==============================] - 0s 4ms/step - loss: 0.5367 - accuracy: 0.7650 - val_loss: 0.5218 - val_accuracy: 0.7534\n",
      "Epoch 82/200\n",
      "21/21 [==============================] - 0s 4ms/step - loss: 0.5358 - accuracy: 0.7680 - val_loss: 0.5210 - val_accuracy: 0.7534\n",
      "Epoch 83/200\n",
      "21/21 [==============================] - 0s 3ms/step - loss: 0.5350 - accuracy: 0.7695 - val_loss: 0.5203 - val_accuracy: 0.7534\n",
      "Epoch 84/200\n",
      "21/21 [==============================] - 0s 3ms/step - loss: 0.5342 - accuracy: 0.7710 - val_loss: 0.5195 - val_accuracy: 0.7534\n",
      "Epoch 85/200\n",
      "21/21 [==============================] - 0s 3ms/step - loss: 0.5334 - accuracy: 0.7695 - val_loss: 0.5187 - val_accuracy: 0.7534\n",
      "Epoch 86/200\n",
      "21/21 [==============================] - 0s 3ms/step - loss: 0.5326 - accuracy: 0.7710 - val_loss: 0.5179 - val_accuracy: 0.7534\n",
      "Epoch 87/200\n",
      "21/21 [==============================] - 0s 3ms/step - loss: 0.5319 - accuracy: 0.7680 - val_loss: 0.5172 - val_accuracy: 0.7534\n",
      "Epoch 88/200\n",
      "21/21 [==============================] - 0s 4ms/step - loss: 0.5311 - accuracy: 0.7680 - val_loss: 0.5164 - val_accuracy: 0.7534\n",
      "Epoch 89/200\n",
      "21/21 [==============================] - 0s 3ms/step - loss: 0.5303 - accuracy: 0.7710 - val_loss: 0.5156 - val_accuracy: 0.7534\n",
      "Epoch 90/200\n",
      "21/21 [==============================] - 0s 4ms/step - loss: 0.5296 - accuracy: 0.7710 - val_loss: 0.5149 - val_accuracy: 0.7534\n",
      "Epoch 91/200\n",
      "21/21 [==============================] - 0s 4ms/step - loss: 0.5288 - accuracy: 0.7710 - val_loss: 0.5142 - val_accuracy: 0.7534\n",
      "Epoch 92/200\n",
      "21/21 [==============================] - 0s 3ms/step - loss: 0.5280 - accuracy: 0.7710 - val_loss: 0.5134 - val_accuracy: 0.7534\n",
      "Epoch 93/200\n",
      "21/21 [==============================] - 0s 4ms/step - loss: 0.5273 - accuracy: 0.7725 - val_loss: 0.5127 - val_accuracy: 0.7578\n",
      "Epoch 94/200\n",
      "21/21 [==============================] - 0s 4ms/step - loss: 0.5266 - accuracy: 0.7740 - val_loss: 0.5120 - val_accuracy: 0.7623\n",
      "Epoch 95/200\n",
      "21/21 [==============================] - 0s 4ms/step - loss: 0.5258 - accuracy: 0.7740 - val_loss: 0.5113 - val_accuracy: 0.7623\n",
      "Epoch 96/200\n",
      "21/21 [==============================] - 0s 4ms/step - loss: 0.5251 - accuracy: 0.7740 - val_loss: 0.5106 - val_accuracy: 0.7623\n",
      "Epoch 97/200\n",
      "21/21 [==============================] - 0s 3ms/step - loss: 0.5244 - accuracy: 0.7740 - val_loss: 0.5099 - val_accuracy: 0.7534\n",
      "Epoch 98/200\n",
      "21/21 [==============================] - 0s 3ms/step - loss: 0.5236 - accuracy: 0.7740 - val_loss: 0.5092 - val_accuracy: 0.7578\n",
      "Epoch 99/200\n",
      "21/21 [==============================] - 0s 4ms/step - loss: 0.5229 - accuracy: 0.7769 - val_loss: 0.5085 - val_accuracy: 0.7578\n",
      "Epoch 100/200\n",
      "21/21 [==============================] - 0s 4ms/step - loss: 0.5222 - accuracy: 0.7754 - val_loss: 0.5078 - val_accuracy: 0.7578\n",
      "Epoch 101/200\n",
      "21/21 [==============================] - 0s 4ms/step - loss: 0.5215 - accuracy: 0.7784 - val_loss: 0.5071 - val_accuracy: 0.7713\n",
      "Epoch 102/200\n",
      "21/21 [==============================] - 0s 4ms/step - loss: 0.5208 - accuracy: 0.7799 - val_loss: 0.5064 - val_accuracy: 0.7713\n",
      "Epoch 103/200\n",
      "21/21 [==============================] - 0s 4ms/step - loss: 0.5201 - accuracy: 0.7784 - val_loss: 0.5058 - val_accuracy: 0.7713\n",
      "Epoch 104/200\n",
      "21/21 [==============================] - 0s 4ms/step - loss: 0.5195 - accuracy: 0.7799 - val_loss: 0.5051 - val_accuracy: 0.7758\n",
      "Epoch 105/200\n",
      "21/21 [==============================] - 0s 3ms/step - loss: 0.5188 - accuracy: 0.7799 - val_loss: 0.5045 - val_accuracy: 0.7758\n",
      "Epoch 106/200\n",
      "21/21 [==============================] - 0s 4ms/step - loss: 0.5181 - accuracy: 0.7829 - val_loss: 0.5038 - val_accuracy: 0.7758\n",
      "Epoch 107/200\n",
      "21/21 [==============================] - 0s 3ms/step - loss: 0.5174 - accuracy: 0.7829 - val_loss: 0.5032 - val_accuracy: 0.7758\n",
      "Epoch 108/200\n",
      "21/21 [==============================] - 0s 3ms/step - loss: 0.5168 - accuracy: 0.7829 - val_loss: 0.5025 - val_accuracy: 0.7758\n",
      "Epoch 109/200\n",
      "21/21 [==============================] - 0s 3ms/step - loss: 0.5161 - accuracy: 0.7859 - val_loss: 0.5019 - val_accuracy: 0.7848\n",
      "Epoch 110/200\n",
      "21/21 [==============================] - 0s 3ms/step - loss: 0.5155 - accuracy: 0.7904 - val_loss: 0.5013 - val_accuracy: 0.7848\n",
      "Epoch 111/200\n",
      "21/21 [==============================] - 0s 3ms/step - loss: 0.5148 - accuracy: 0.7904 - val_loss: 0.5007 - val_accuracy: 0.7848\n",
      "Epoch 112/200\n",
      "21/21 [==============================] - 0s 4ms/step - loss: 0.5142 - accuracy: 0.7904 - val_loss: 0.5000 - val_accuracy: 0.7848\n",
      "Epoch 113/200\n",
      "21/21 [==============================] - 0s 4ms/step - loss: 0.5135 - accuracy: 0.7889 - val_loss: 0.4994 - val_accuracy: 0.7848\n",
      "Epoch 114/200\n",
      "21/21 [==============================] - 0s 3ms/step - loss: 0.5129 - accuracy: 0.7874 - val_loss: 0.4988 - val_accuracy: 0.7848\n",
      "Epoch 115/200\n",
      "21/21 [==============================] - 0s 3ms/step - loss: 0.5123 - accuracy: 0.7874 - val_loss: 0.4982 - val_accuracy: 0.7848\n",
      "Epoch 116/200\n",
      "21/21 [==============================] - 0s 3ms/step - loss: 0.5117 - accuracy: 0.7904 - val_loss: 0.4976 - val_accuracy: 0.7848\n",
      "Epoch 117/200\n",
      "21/21 [==============================] - 0s 3ms/step - loss: 0.5110 - accuracy: 0.7904 - val_loss: 0.4970 - val_accuracy: 0.7803\n",
      "Epoch 118/200\n",
      "21/21 [==============================] - 0s 3ms/step - loss: 0.5104 - accuracy: 0.7919 - val_loss: 0.4965 - val_accuracy: 0.7803\n",
      "Epoch 119/200\n",
      "21/21 [==============================] - 0s 4ms/step - loss: 0.5098 - accuracy: 0.7919 - val_loss: 0.4959 - val_accuracy: 0.7803\n",
      "Epoch 120/200\n",
      "21/21 [==============================] - 0s 3ms/step - loss: 0.5092 - accuracy: 0.7934 - val_loss: 0.4953 - val_accuracy: 0.7758\n",
      "Epoch 121/200\n",
      "21/21 [==============================] - 0s 3ms/step - loss: 0.5087 - accuracy: 0.7919 - val_loss: 0.4947 - val_accuracy: 0.7803\n",
      "Epoch 122/200\n",
      "21/21 [==============================] - 0s 3ms/step - loss: 0.5080 - accuracy: 0.7919 - val_loss: 0.4942 - val_accuracy: 0.7803\n",
      "Epoch 123/200\n",
      "21/21 [==============================] - 0s 3ms/step - loss: 0.5075 - accuracy: 0.7904 - val_loss: 0.4936 - val_accuracy: 0.7803\n",
      "Epoch 124/200\n",
      "21/21 [==============================] - 0s 3ms/step - loss: 0.5069 - accuracy: 0.7904 - val_loss: 0.4931 - val_accuracy: 0.7803\n",
      "Epoch 125/200\n",
      "21/21 [==============================] - 0s 3ms/step - loss: 0.5063 - accuracy: 0.7904 - val_loss: 0.4925 - val_accuracy: 0.7803\n",
      "Epoch 126/200\n",
      "21/21 [==============================] - 0s 4ms/step - loss: 0.5058 - accuracy: 0.7889 - val_loss: 0.4920 - val_accuracy: 0.7803\n",
      "Epoch 127/200\n",
      "21/21 [==============================] - 0s 3ms/step - loss: 0.5052 - accuracy: 0.7889 - val_loss: 0.4914 - val_accuracy: 0.7758\n",
      "Epoch 128/200\n",
      "21/21 [==============================] - 0s 3ms/step - loss: 0.5046 - accuracy: 0.7889 - val_loss: 0.4909 - val_accuracy: 0.7758\n",
      "Epoch 129/200\n",
      "21/21 [==============================] - 0s 3ms/step - loss: 0.5041 - accuracy: 0.7904 - val_loss: 0.4904 - val_accuracy: 0.7758\n",
      "Epoch 130/200\n",
      "21/21 [==============================] - 0s 4ms/step - loss: 0.5035 - accuracy: 0.7904 - val_loss: 0.4899 - val_accuracy: 0.7758\n",
      "Epoch 131/200\n",
      "21/21 [==============================] - 0s 4ms/step - loss: 0.5030 - accuracy: 0.7904 - val_loss: 0.4893 - val_accuracy: 0.7758\n",
      "Epoch 132/200\n",
      "21/21 [==============================] - 0s 4ms/step - loss: 0.5024 - accuracy: 0.7889 - val_loss: 0.4888 - val_accuracy: 0.7803\n",
      "Epoch 133/200\n",
      "21/21 [==============================] - 0s 3ms/step - loss: 0.5019 - accuracy: 0.7889 - val_loss: 0.4883 - val_accuracy: 0.7803\n",
      "Epoch 134/200\n",
      "21/21 [==============================] - 0s 4ms/step - loss: 0.5013 - accuracy: 0.7919 - val_loss: 0.4878 - val_accuracy: 0.7803\n",
      "Epoch 135/200\n",
      "21/21 [==============================] - 0s 3ms/step - loss: 0.5008 - accuracy: 0.7934 - val_loss: 0.4873 - val_accuracy: 0.7758\n",
      "Epoch 136/200\n",
      "21/21 [==============================] - 0s 3ms/step - loss: 0.5003 - accuracy: 0.7934 - val_loss: 0.4868 - val_accuracy: 0.7758\n",
      "Epoch 137/200\n",
      "21/21 [==============================] - 0s 3ms/step - loss: 0.4998 - accuracy: 0.7934 - val_loss: 0.4863 - val_accuracy: 0.7758\n",
      "Epoch 138/200\n",
      "21/21 [==============================] - 0s 3ms/step - loss: 0.4992 - accuracy: 0.7964 - val_loss: 0.4858 - val_accuracy: 0.7758\n",
      "Epoch 139/200\n",
      "21/21 [==============================] - 0s 3ms/step - loss: 0.4988 - accuracy: 0.7979 - val_loss: 0.4853 - val_accuracy: 0.7758\n",
      "Epoch 140/200\n",
      "21/21 [==============================] - 0s 3ms/step - loss: 0.4982 - accuracy: 0.7979 - val_loss: 0.4849 - val_accuracy: 0.7758\n",
      "Epoch 141/200\n",
      "21/21 [==============================] - 0s 3ms/step - loss: 0.4977 - accuracy: 0.7994 - val_loss: 0.4844 - val_accuracy: 0.7758\n",
      "Epoch 142/200\n",
      "21/21 [==============================] - 0s 3ms/step - loss: 0.4972 - accuracy: 0.7979 - val_loss: 0.4839 - val_accuracy: 0.7758\n",
      "Epoch 143/200\n",
      "21/21 [==============================] - 0s 3ms/step - loss: 0.4967 - accuracy: 0.7994 - val_loss: 0.4834 - val_accuracy: 0.7758\n",
      "Epoch 144/200\n",
      "21/21 [==============================] - 0s 3ms/step - loss: 0.4962 - accuracy: 0.7949 - val_loss: 0.4830 - val_accuracy: 0.7758\n",
      "Epoch 145/200\n",
      "21/21 [==============================] - 0s 3ms/step - loss: 0.4957 - accuracy: 0.7964 - val_loss: 0.4825 - val_accuracy: 0.7758\n",
      "Epoch 146/200\n",
      "21/21 [==============================] - 0s 3ms/step - loss: 0.4953 - accuracy: 0.7964 - val_loss: 0.4821 - val_accuracy: 0.7713\n",
      "Epoch 147/200\n",
      "21/21 [==============================] - 0s 4ms/step - loss: 0.4948 - accuracy: 0.7949 - val_loss: 0.4816 - val_accuracy: 0.7713\n",
      "Epoch 148/200\n",
      "21/21 [==============================] - 0s 4ms/step - loss: 0.4943 - accuracy: 0.7934 - val_loss: 0.4812 - val_accuracy: 0.7713\n",
      "Epoch 149/200\n",
      "21/21 [==============================] - 0s 4ms/step - loss: 0.4938 - accuracy: 0.7919 - val_loss: 0.4807 - val_accuracy: 0.7713\n",
      "Epoch 150/200\n",
      "21/21 [==============================] - 0s 4ms/step - loss: 0.4934 - accuracy: 0.7934 - val_loss: 0.4803 - val_accuracy: 0.7713\n",
      "Epoch 151/200\n",
      "21/21 [==============================] - 0s 3ms/step - loss: 0.4929 - accuracy: 0.7934 - val_loss: 0.4798 - val_accuracy: 0.7713\n",
      "Epoch 152/200\n",
      "21/21 [==============================] - 0s 4ms/step - loss: 0.4924 - accuracy: 0.7934 - val_loss: 0.4794 - val_accuracy: 0.7713\n",
      "Epoch 153/200\n",
      "21/21 [==============================] - 0s 4ms/step - loss: 0.4920 - accuracy: 0.7949 - val_loss: 0.4790 - val_accuracy: 0.7713\n",
      "Epoch 154/200\n",
      "21/21 [==============================] - 0s 4ms/step - loss: 0.4915 - accuracy: 0.7949 - val_loss: 0.4786 - val_accuracy: 0.7713\n",
      "Epoch 155/200\n",
      "21/21 [==============================] - 0s 3ms/step - loss: 0.4911 - accuracy: 0.7934 - val_loss: 0.4781 - val_accuracy: 0.7713\n",
      "Epoch 156/200\n",
      "21/21 [==============================] - 0s 3ms/step - loss: 0.4906 - accuracy: 0.7949 - val_loss: 0.4777 - val_accuracy: 0.7713\n",
      "Epoch 157/200\n",
      "21/21 [==============================] - 0s 4ms/step - loss: 0.4902 - accuracy: 0.7949 - val_loss: 0.4773 - val_accuracy: 0.7713\n",
      "Epoch 158/200\n",
      "21/21 [==============================] - 0s 5ms/step - loss: 0.4897 - accuracy: 0.7934 - val_loss: 0.4769 - val_accuracy: 0.7713\n",
      "Epoch 159/200\n",
      "21/21 [==============================] - 0s 5ms/step - loss: 0.4893 - accuracy: 0.7934 - val_loss: 0.4765 - val_accuracy: 0.7713\n",
      "Epoch 160/200\n",
      "21/21 [==============================] - 0s 3ms/step - loss: 0.4889 - accuracy: 0.7949 - val_loss: 0.4761 - val_accuracy: 0.7713\n",
      "Epoch 161/200\n",
      "21/21 [==============================] - 0s 3ms/step - loss: 0.4884 - accuracy: 0.7949 - val_loss: 0.4757 - val_accuracy: 0.7713\n",
      "Epoch 162/200\n",
      "21/21 [==============================] - 0s 4ms/step - loss: 0.4880 - accuracy: 0.7949 - val_loss: 0.4753 - val_accuracy: 0.7713\n",
      "Epoch 163/200\n",
      "21/21 [==============================] - 0s 3ms/step - loss: 0.4876 - accuracy: 0.7964 - val_loss: 0.4749 - val_accuracy: 0.7713\n",
      "Epoch 164/200\n",
      "21/21 [==============================] - 0s 3ms/step - loss: 0.4872 - accuracy: 0.7964 - val_loss: 0.4745 - val_accuracy: 0.7713\n",
      "Epoch 165/200\n",
      "21/21 [==============================] - 0s 4ms/step - loss: 0.4867 - accuracy: 0.7964 - val_loss: 0.4741 - val_accuracy: 0.7713\n",
      "Epoch 166/200\n",
      "21/21 [==============================] - 0s 4ms/step - loss: 0.4863 - accuracy: 0.7964 - val_loss: 0.4737 - val_accuracy: 0.7713\n",
      "Epoch 167/200\n",
      "21/21 [==============================] - 0s 3ms/step - loss: 0.4860 - accuracy: 0.7949 - val_loss: 0.4733 - val_accuracy: 0.7713\n",
      "Epoch 168/200\n",
      "21/21 [==============================] - 0s 3ms/step - loss: 0.4855 - accuracy: 0.7949 - val_loss: 0.4730 - val_accuracy: 0.7713\n",
      "Epoch 169/200\n",
      "21/21 [==============================] - 0s 4ms/step - loss: 0.4851 - accuracy: 0.7934 - val_loss: 0.4726 - val_accuracy: 0.7848\n",
      "Epoch 170/200\n",
      "21/21 [==============================] - 0s 4ms/step - loss: 0.4847 - accuracy: 0.7934 - val_loss: 0.4722 - val_accuracy: 0.7848\n",
      "Epoch 171/200\n",
      "21/21 [==============================] - 0s 4ms/step - loss: 0.4844 - accuracy: 0.7934 - val_loss: 0.4719 - val_accuracy: 0.7848\n",
      "Epoch 172/200\n",
      "21/21 [==============================] - 0s 6ms/step - loss: 0.4839 - accuracy: 0.7934 - val_loss: 0.4715 - val_accuracy: 0.7848\n",
      "Epoch 173/200\n",
      "21/21 [==============================] - 0s 3ms/step - loss: 0.4836 - accuracy: 0.7934 - val_loss: 0.4711 - val_accuracy: 0.7848\n",
      "Epoch 174/200\n",
      "21/21 [==============================] - 0s 4ms/step - loss: 0.4832 - accuracy: 0.7934 - val_loss: 0.4708 - val_accuracy: 0.7848\n",
      "Epoch 175/200\n",
      "21/21 [==============================] - 0s 4ms/step - loss: 0.4828 - accuracy: 0.7934 - val_loss: 0.4704 - val_accuracy: 0.7848\n",
      "Epoch 176/200\n",
      "21/21 [==============================] - 0s 3ms/step - loss: 0.4824 - accuracy: 0.7919 - val_loss: 0.4701 - val_accuracy: 0.7848\n",
      "Epoch 177/200\n",
      "21/21 [==============================] - 0s 4ms/step - loss: 0.4820 - accuracy: 0.7919 - val_loss: 0.4697 - val_accuracy: 0.7848\n",
      "Epoch 178/200\n",
      "21/21 [==============================] - 0s 4ms/step - loss: 0.4817 - accuracy: 0.7919 - val_loss: 0.4694 - val_accuracy: 0.7848\n",
      "Epoch 179/200\n",
      "21/21 [==============================] - 0s 7ms/step - loss: 0.4813 - accuracy: 0.7934 - val_loss: 0.4690 - val_accuracy: 0.7848\n",
      "Epoch 180/200\n",
      "21/21 [==============================] - 0s 8ms/step - loss: 0.4809 - accuracy: 0.7934 - val_loss: 0.4687 - val_accuracy: 0.7848\n",
      "Epoch 181/200\n",
      "21/21 [==============================] - 0s 5ms/step - loss: 0.4806 - accuracy: 0.7934 - val_loss: 0.4684 - val_accuracy: 0.7848\n",
      "Epoch 182/200\n",
      "21/21 [==============================] - 0s 6ms/step - loss: 0.4802 - accuracy: 0.7934 - val_loss: 0.4680 - val_accuracy: 0.7848\n",
      "Epoch 183/200\n",
      "21/21 [==============================] - 0s 9ms/step - loss: 0.4798 - accuracy: 0.7934 - val_loss: 0.4677 - val_accuracy: 0.7848\n",
      "Epoch 184/200\n",
      "21/21 [==============================] - 0s 6ms/step - loss: 0.4795 - accuracy: 0.7934 - val_loss: 0.4674 - val_accuracy: 0.7848\n",
      "Epoch 185/200\n",
      "21/21 [==============================] - 0s 6ms/step - loss: 0.4791 - accuracy: 0.7934 - val_loss: 0.4671 - val_accuracy: 0.7848\n",
      "Epoch 186/200\n",
      "21/21 [==============================] - 0s 4ms/step - loss: 0.4788 - accuracy: 0.7934 - val_loss: 0.4667 - val_accuracy: 0.7848\n",
      "Epoch 187/200\n",
      "21/21 [==============================] - 0s 4ms/step - loss: 0.4784 - accuracy: 0.7964 - val_loss: 0.4664 - val_accuracy: 0.7848\n",
      "Epoch 188/200\n",
      "21/21 [==============================] - 0s 3ms/step - loss: 0.4781 - accuracy: 0.7964 - val_loss: 0.4661 - val_accuracy: 0.7848\n",
      "Epoch 189/200\n",
      "21/21 [==============================] - 0s 4ms/step - loss: 0.4777 - accuracy: 0.7964 - val_loss: 0.4658 - val_accuracy: 0.7848\n",
      "Epoch 190/200\n",
      "21/21 [==============================] - 0s 4ms/step - loss: 0.4774 - accuracy: 0.7964 - val_loss: 0.4655 - val_accuracy: 0.7848\n",
      "Epoch 191/200\n",
      "21/21 [==============================] - 0s 3ms/step - loss: 0.4771 - accuracy: 0.7964 - val_loss: 0.4651 - val_accuracy: 0.7848\n",
      "Epoch 192/200\n",
      "21/21 [==============================] - 0s 3ms/step - loss: 0.4767 - accuracy: 0.7979 - val_loss: 0.4648 - val_accuracy: 0.7848\n",
      "Epoch 193/200\n",
      "21/21 [==============================] - 0s 4ms/step - loss: 0.4764 - accuracy: 0.7979 - val_loss: 0.4645 - val_accuracy: 0.7848\n",
      "Epoch 194/200\n",
      "21/21 [==============================] - 0s 3ms/step - loss: 0.4761 - accuracy: 0.7979 - val_loss: 0.4642 - val_accuracy: 0.7848\n",
      "Epoch 195/200\n",
      "21/21 [==============================] - 0s 3ms/step - loss: 0.4757 - accuracy: 0.7964 - val_loss: 0.4639 - val_accuracy: 0.7848\n",
      "Epoch 196/200\n",
      "21/21 [==============================] - 0s 4ms/step - loss: 0.4754 - accuracy: 0.7979 - val_loss: 0.4636 - val_accuracy: 0.7848\n",
      "Epoch 197/200\n",
      "21/21 [==============================] - 0s 3ms/step - loss: 0.4751 - accuracy: 0.7979 - val_loss: 0.4633 - val_accuracy: 0.7848\n",
      "Epoch 198/200\n",
      "21/21 [==============================] - 0s 3ms/step - loss: 0.4748 - accuracy: 0.7979 - val_loss: 0.4630 - val_accuracy: 0.7848\n",
      "Epoch 199/200\n",
      "21/21 [==============================] - 0s 3ms/step - loss: 0.4744 - accuracy: 0.7994 - val_loss: 0.4627 - val_accuracy: 0.7848\n",
      "Epoch 200/200\n",
      "21/21 [==============================] - 0s 3ms/step - loss: 0.4741 - accuracy: 0.7979 - val_loss: 0.4625 - val_accuracy: 0.7848\n"
     ]
    }
   ],
   "source": [
    "# Fit(Train) the Model\n",
    "\n",
    "# Compile the model with Optimizer, Loss Function and Metrics\n",
    "model_1.compile(SGD(lr = 0.003), loss = 'binary_crossentropy', metrics=['accuracy'])\n",
    "history_1 = model_1.fit(X_train_norm,y_train, validation_data = (X_test_norm,y_test), epochs=200)"
   ]
  },
  {
   "cell_type": "code",
   "execution_count": 43,
   "id": "ab7a3cd5",
   "metadata": {
    "execution": {
     "iopub.execute_input": "2022-06-30T09:47:53.289990Z",
     "iopub.status.busy": "2022-06-30T09:47:53.289556Z",
     "iopub.status.idle": "2022-06-30T09:47:53.479239Z",
     "shell.execute_reply": "2022-06-30T09:47:53.478024Z"
    },
    "papermill": {
     "duration": 0.247107,
     "end_time": "2022-06-30T09:47:53.482059",
     "exception": false,
     "start_time": "2022-06-30T09:47:53.234952",
     "status": "completed"
    },
    "tags": []
   },
   "outputs": [],
   "source": [
    "y_pred = (model_1.predict(X_test_norm) > 0.5).astype(\"int32\")\n",
    "y_pred_proba = model_1.predict(X_test_norm)"
   ]
  },
  {
   "cell_type": "code",
   "execution_count": 44,
   "id": "6f2661af",
   "metadata": {
    "execution": {
     "iopub.execute_input": "2022-06-30T09:47:53.593770Z",
     "iopub.status.busy": "2022-06-30T09:47:53.592845Z",
     "iopub.status.idle": "2022-06-30T09:47:53.603186Z",
     "shell.execute_reply": "2022-06-30T09:47:53.601826Z"
    },
    "papermill": {
     "duration": 0.070999,
     "end_time": "2022-06-30T09:47:53.606340",
     "exception": false,
     "start_time": "2022-06-30T09:47:53.535341",
     "status": "completed"
    },
    "tags": []
   },
   "outputs": [
    {
     "name": "stdout",
     "output_type": "stream",
     "text": [
      "accuracy is 0.785\n",
      "roc-auc is 0.873\n"
     ]
    }
   ],
   "source": [
    "# Print model performance and plot the roc curve\n",
    "print('accuracy is {:.3f}'.format(accuracy_score(y_test,y_pred)))\n",
    "print('roc-auc is {:.3f}'.format(roc_auc_score(y_test,y_pred_proba)))"
   ]
  },
  {
   "cell_type": "code",
   "execution_count": 45,
   "id": "bbbc4eb7",
   "metadata": {
    "execution": {
     "iopub.execute_input": "2022-06-30T09:47:53.718112Z",
     "iopub.status.busy": "2022-06-30T09:47:53.717477Z",
     "iopub.status.idle": "2022-06-30T09:47:53.919239Z",
     "shell.execute_reply": "2022-06-30T09:47:53.917994Z"
    },
    "papermill": {
     "duration": 0.261253,
     "end_time": "2022-06-30T09:47:53.923488",
     "exception": false,
     "start_time": "2022-06-30T09:47:53.662235",
     "status": "completed"
    },
    "tags": []
   },
   "outputs": [
    {
     "data": {
      "image/png": "[encoded data removed]",
      "text/plain": [
       "<Figure size 576x576 with 1 Axes>"
      ]
     },
     "metadata": {
      "needs_background": "light"
     },
     "output_type": "display_data"
    }
   ],
   "source": [
    "plot_roc(y_test, y_pred_proba, 'NN')"
   ]
  },
  {
   "cell_type": "code",
   "execution_count": 46,
   "id": "491998ba",
   "metadata": {
    "execution": {
     "iopub.execute_input": "2022-06-30T09:47:54.034735Z",
     "iopub.status.busy": "2022-06-30T09:47:54.034121Z",
     "iopub.status.idle": "2022-06-30T09:47:54.041018Z",
     "shell.execute_reply": "2022-06-30T09:47:54.039785Z"
    },
    "papermill": {
     "duration": 0.065781,
     "end_time": "2022-06-30T09:47:54.043230",
     "exception": false,
     "start_time": "2022-06-30T09:47:53.977449",
     "status": "completed"
    },
    "tags": []
   },
   "outputs": [
    {
     "data": {
      "text/plain": [
       "dict_keys(['loss', 'accuracy', 'val_loss', 'val_accuracy'])"
      ]
     },
     "execution_count": 46,
     "metadata": {},
     "output_type": "execute_result"
    }
   ],
   "source": [
    "history_1.history.keys()"
   ]
  },
  {
   "cell_type": "markdown",
   "id": "09695ba4",
   "metadata": {
    "papermill": {
     "duration": 0.054997,
     "end_time": "2022-06-30T09:47:54.153861",
     "exception": false,
     "start_time": "2022-06-30T09:47:54.098864",
     "status": "completed"
    },
    "tags": []
   },
   "source": [
    "Let's plot the training loss and the validation loss over the different epochs and see how it looks."
   ]
  },
  {
   "cell_type": "code",
   "execution_count": 47,
   "id": "7631f026",
   "metadata": {
    "execution": {
     "iopub.execute_input": "2022-06-30T09:47:54.265625Z",
     "iopub.status.busy": "2022-06-30T09:47:54.265242Z",
     "iopub.status.idle": "2022-06-30T09:47:54.496472Z",
     "shell.execute_reply": "2022-06-30T09:47:54.494822Z"
    },
    "papermill": {
     "duration": 0.290642,
     "end_time": "2022-06-30T09:47:54.498994",
     "exception": false,
     "start_time": "2022-06-30T09:47:54.208352",
     "status": "completed"
    },
    "tags": []
   },
   "outputs": [
    {
     "data": {
      "text/plain": [
       "<matplotlib.legend.Legend at 0x7fca19655310>"
      ]
     },
     "execution_count": 47,
     "metadata": {},
     "output_type": "execute_result"
    },
    {
     "data": {
      "image/png": "[encoded data removed]",
      "text/plain": [
       "<Figure size 432x288 with 1 Axes>"
      ]
     },
     "metadata": {
      "needs_background": "light"
     },
     "output_type": "display_data"
    }
   ],
   "source": [
    "fig, ax = plt.subplots()\n",
    "ax.plot(history_1.history[\"loss\"],'r', marker='.', label=\"Train Loss\")\n",
    "ax.plot(history_1.history[\"val_loss\"],'b', marker='.', label=\"Validation Loss\")\n",
    "ax.legend()"
   ]
  },
  {
   "cell_type": "markdown",
   "id": "e933ee88",
   "metadata": {
    "papermill": {
     "duration": 0.05481,
     "end_time": "2022-06-30T09:47:54.611648",
     "exception": false,
     "start_time": "2022-06-30T09:47:54.556838",
     "status": "completed"
    },
    "tags": []
   },
   "source": [
    "Looks like the losses are still going down on both the training set and the validation set. This suggests that the model might benefit from further training. Let's train the model a little more and see what happens. Note that it will pick up from where it left off. Train for 1000 more epochs."
   ]
  },
  {
   "cell_type": "code",
   "execution_count": 48,
   "id": "03446165",
   "metadata": {
    "execution": {
     "iopub.execute_input": "2022-06-30T09:47:54.724107Z",
     "iopub.status.busy": "2022-06-30T09:47:54.723493Z",
     "iopub.status.idle": "2022-06-30T09:49:03.578689Z",
     "shell.execute_reply": "2022-06-30T09:49:03.577396Z"
    },
    "papermill": {
     "duration": 68.914639,
     "end_time": "2022-06-30T09:49:03.581398",
     "exception": false,
     "start_time": "2022-06-30T09:47:54.666759",
     "status": "completed"
    },
    "tags": []
   },
   "outputs": [],
   "source": [
    "history_2 = model_1.fit(X_train_norm, y_train, validation_data=(X_test_norm, y_test), epochs=1000,verbose=0)"
   ]
  },
  {
   "cell_type": "code",
   "execution_count": 49,
   "id": "f6e5d538",
   "metadata": {
    "execution": {
     "iopub.execute_input": "2022-06-30T09:49:03.698518Z",
     "iopub.status.busy": "2022-06-30T09:49:03.698110Z",
     "iopub.status.idle": "2022-06-30T09:49:03.969251Z",
     "shell.execute_reply": "2022-06-30T09:49:03.968214Z"
    },
    "papermill": {
     "duration": 0.332634,
     "end_time": "2022-06-30T09:49:03.972551",
     "exception": false,
     "start_time": "2022-06-30T09:49:03.639917",
     "status": "completed"
    },
    "tags": []
   },
   "outputs": [
    {
     "data": {
      "text/plain": [
       "<matplotlib.legend.Legend at 0x7fca10ebfa90>"
      ]
     },
     "execution_count": 49,
     "metadata": {},
     "output_type": "execute_result"
    },
    {
     "data": {
      "image/png": "[encoded data removed]",
      "text/plain": [
       "<Figure size 1152x576 with 1 Axes>"
      ]
     },
     "metadata": {
      "needs_background": "light"
     },
     "output_type": "display_data"
    }
   ],
   "source": [
    "n = len(history_1.history[\"loss\"])\n",
    "m = len(history_2.history['loss'])\n",
    "fig, ax = plt.subplots(figsize=(16, 8))\n",
    "\n",
    "ax.plot(range(n), history_1.history[\"loss\"],'r', marker='.', label=\"Train Loss - Run 1\")\n",
    "ax.plot(range(n, n+m), history_2.history[\"loss\"], 'hotpink', marker='.', label=\"Train Loss - Run 2\")\n",
    "\n",
    "ax.plot(range(n), history_1.history[\"val_loss\"],'b', marker='.', label=\"Validation Loss - Run 1\")\n",
    "ax.plot(range(n, n+m), history_2.history[\"val_loss\"], 'LightSkyBlue', marker='.',  label=\"Validation Loss - Run 2\")\n",
    "\n",
    "ax.legend()"
   ]
  },
  {
   "cell_type": "markdown",
   "id": "74dfa6d9",
   "metadata": {
    "papermill": {
     "duration": 0.05705,
     "end_time": "2022-06-30T09:49:04.086741",
     "exception": false,
     "start_time": "2022-06-30T09:49:04.029691",
     "status": "completed"
    },
    "tags": []
   },
   "source": [
    "Note that this graph begins where the other left off. While the training loss is still going down, it looks like the validation loss has stabilized (or even gotten worse!). This suggests that our network will not benefit from further training. What is the appropriate number of epochs?"
   ]
  },
  {
   "cell_type": "markdown",
   "id": "01d64ed4",
   "metadata": {
    "papermill": {
     "duration": 0.056544,
     "end_time": "2022-06-30T09:49:04.200229",
     "exception": false,
     "start_time": "2022-06-30T09:49:04.143685",
     "status": "completed"
    },
    "tags": []
   },
   "source": [
    "For this exercise, do the following in the cells below:\n",
    "\n",
    "Build a model with two hidden layers, each with 6 nodes\n",
    "\n",
    "Use the \"relu\" activation function for the hidden layers, and \"sigmoid\" for the final layer\n",
    "\n",
    "Use a learning rate of .003 and train for 1500 epochs\n",
    "\n",
    "Graph the trajectory of the loss functions, accuracy on both train and test set Plot the roc curve for the predictions\n",
    "\n",
    "Experiment with different learning rates, numbers of epochs, and network structures\n"
   ]
  },
  {
   "cell_type": "code",
   "execution_count": 50,
   "id": "7309b330",
   "metadata": {
    "execution": {
     "iopub.execute_input": "2022-06-30T09:49:04.316943Z",
     "iopub.status.busy": "2022-06-30T09:49:04.315784Z",
     "iopub.status.idle": "2022-06-30T09:51:00.520242Z",
     "shell.execute_reply": "2022-06-30T09:51:00.518775Z"
    },
    "papermill": {
     "duration": 116.266098,
     "end_time": "2022-06-30T09:51:00.523266",
     "exception": false,
     "start_time": "2022-06-30T09:49:04.257168",
     "status": "completed"
    },
    "tags": []
   },
   "outputs": [],
   "source": [
    "### BEGIN SOLUTION\n",
    "model_2 = models.Sequential()\n",
    "model_2.add(layers.Dense(6, input_shape=(20,), activation=\"relu\"))\n",
    "model_2.add(layers.Dense(6, activation=\"relu\"))\n",
    "model_2.add(layers.Dense(1, activation=\"sigmoid\"))\n",
    "\n",
    "model_2.compile(SGD(lr = .003), \"binary_crossentropy\", metrics=[\"accuracy\"])\n",
    "history_3 = model_2.fit(X_train_norm, y_train, validation_data=(X_test_norm, y_test), epochs=1500,verbose=0)"
   ]
  },
  {
   "cell_type": "code",
   "execution_count": 51,
   "id": "10bebb6b",
   "metadata": {
    "execution": {
     "iopub.execute_input": "2022-06-30T09:51:00.646671Z",
     "iopub.status.busy": "2022-06-30T09:51:00.645799Z",
     "iopub.status.idle": "2022-06-30T09:51:00.653189Z",
     "shell.execute_reply": "2022-06-30T09:51:00.652232Z"
    },
    "papermill": {
     "duration": 0.075115,
     "end_time": "2022-06-30T09:51:00.655343",
     "exception": false,
     "start_time": "2022-06-30T09:51:00.580228",
     "status": "completed"
    },
    "tags": []
   },
   "outputs": [
    {
     "data": {
      "text/plain": [
       "dict_keys(['loss', 'accuracy', 'val_loss', 'val_accuracy'])"
      ]
     },
     "execution_count": 51,
     "metadata": {},
     "output_type": "execute_result"
    }
   ],
   "source": [
    "history_3.history.keys()"
   ]
  },
  {
   "cell_type": "code",
   "execution_count": 52,
   "id": "f0a98125",
   "metadata": {
    "execution": {
     "iopub.execute_input": "2022-06-30T09:51:00.775172Z",
     "iopub.status.busy": "2022-06-30T09:51:00.774813Z",
     "iopub.status.idle": "2022-06-30T09:51:01.162287Z",
     "shell.execute_reply": "2022-06-30T09:51:01.160565Z"
    },
    "papermill": {
     "duration": 0.450745,
     "end_time": "2022-06-30T09:51:01.165416",
     "exception": false,
     "start_time": "2022-06-30T09:51:00.714671",
     "status": "completed"
    },
    "tags": []
   },
   "outputs": [
    {
     "data": {
      "text/plain": [
       "Text(0.5, 1.0, 'Accuracy over iterations')"
      ]
     },
     "execution_count": 52,
     "metadata": {},
     "output_type": "execute_result"
    },
    {
     "data": {
      "image/png": "[encoded data removed]",
      "text/plain": [
       "<Figure size 864x432 with 2 Axes>"
      ]
     },
     "metadata": {
      "needs_background": "light"
     },
     "output_type": "display_data"
    }
   ],
   "source": [
    "n = len(history_3.history[\"loss\"])\n",
    "\n",
    "fig = plt.figure(figsize=(12, 6))\n",
    "ax = fig.add_subplot(1, 2, 1)\n",
    "ax.plot(range(n), (history_3.history[\"loss\"]),'r.', label=\"Train Loss\")\n",
    "ax.plot(range(n), (history_3.history[\"val_loss\"]),'b.', label=\"Validation Loss\")\n",
    "ax.legend()\n",
    "ax.set_title('Loss over iterations')\n",
    "\n",
    "ax = fig.add_subplot(1, 2, 2)\n",
    "ax.plot(range(n), (history_3.history[\"accuracy\"]),'r.', label=\"Train Acc\")\n",
    "ax.plot(range(n), (history_3.history[\"val_accuracy\"]),'b.', label=\"Validation Acc\")\n",
    "ax.legend(loc='lower right')\n",
    "ax.set_title('Accuracy over iterations')"
   ]
  },
  {
   "cell_type": "code",
   "execution_count": 53,
   "id": "140ee73f",
   "metadata": {
    "execution": {
     "iopub.execute_input": "2022-06-30T09:51:01.285354Z",
     "iopub.status.busy": "2022-06-30T09:51:01.282872Z",
     "iopub.status.idle": "2022-06-30T09:51:01.460134Z",
     "shell.execute_reply": "2022-06-30T09:51:01.458973Z"
    },
    "papermill": {
     "duration": 0.23825,
     "end_time": "2022-06-30T09:51:01.462861",
     "exception": false,
     "start_time": "2022-06-30T09:51:01.224611",
     "status": "completed"
    },
    "tags": []
   },
   "outputs": [],
   "source": [
    "y_pred = (model_2.predict(X_test_norm) > 0.5).astype(\"int32\")\n",
    "y_pred_proba = model_2.predict(X_test_norm)"
   ]
  },
  {
   "cell_type": "code",
   "execution_count": 54,
   "id": "596abcdb",
   "metadata": {
    "execution": {
     "iopub.execute_input": "2022-06-30T09:51:01.580514Z",
     "iopub.status.busy": "2022-06-30T09:51:01.579946Z",
     "iopub.status.idle": "2022-06-30T09:51:01.587343Z",
     "shell.execute_reply": "2022-06-30T09:51:01.586468Z"
    },
    "papermill": {
     "duration": 0.06927,
     "end_time": "2022-06-30T09:51:01.590108",
     "exception": false,
     "start_time": "2022-06-30T09:51:01.520838",
     "status": "completed"
    },
    "tags": []
   },
   "outputs": [
    {
     "name": "stdout",
     "output_type": "stream",
     "text": [
      "accuracy is 0.812\n",
      "roc-auc is 0.893\n"
     ]
    }
   ],
   "source": [
    "print('accuracy is {:.3f}'.format(accuracy_score(y_test,y_pred)))\n",
    "print('roc-auc is {:.3f}'.format(roc_auc_score(y_test,y_pred_proba)))"
   ]
  },
  {
   "cell_type": "code",
   "execution_count": 55,
   "id": "504e78a4",
   "metadata": {
    "execution": {
     "iopub.execute_input": "2022-06-30T09:51:01.709793Z",
     "iopub.status.busy": "2022-06-30T09:51:01.709159Z",
     "iopub.status.idle": "2022-06-30T09:51:01.911435Z",
     "shell.execute_reply": "2022-06-30T09:51:01.910513Z"
    },
    "papermill": {
     "duration": 0.26566,
     "end_time": "2022-06-30T09:51:01.913929",
     "exception": false,
     "start_time": "2022-06-30T09:51:01.648269",
     "status": "completed"
    },
    "tags": []
   },
   "outputs": [
    {
     "data": {
      "image/png": "[encoded data removed]",
      "text/plain": [
       "<Figure size 576x576 with 1 Axes>"
      ]
     },
     "metadata": {
      "needs_background": "light"
     },
     "output_type": "display_data"
    }
   ],
   "source": [
    "plot_roc(y_test, y_pred_proba, 'NN-2')"
   ]
  },
  {
   "cell_type": "code",
   "execution_count": 56,
   "id": "39d7e43f",
   "metadata": {
    "execution": {
     "iopub.execute_input": "2022-06-30T09:51:02.034593Z",
     "iopub.status.busy": "2022-06-30T09:51:02.033982Z",
     "iopub.status.idle": "2022-06-30T09:51:02.163392Z",
     "shell.execute_reply": "2022-06-30T09:51:02.161832Z"
    },
    "papermill": {
     "duration": 0.192933,
     "end_time": "2022-06-30T09:51:02.165977",
     "exception": false,
     "start_time": "2022-06-30T09:51:01.973044",
     "status": "completed"
    },
    "tags": []
   },
   "outputs": [],
   "source": [
    "y_pred_test = (model_2.predict(df_test) > 0.5).astype(\"int32\")"
   ]
  },
  {
   "cell_type": "code",
   "execution_count": 57,
   "id": "4d1ae83a",
   "metadata": {
    "execution": {
     "iopub.execute_input": "2022-06-30T09:51:02.284203Z",
     "iopub.status.busy": "2022-06-30T09:51:02.283303Z",
     "iopub.status.idle": "2022-06-30T09:51:02.288766Z",
     "shell.execute_reply": "2022-06-30T09:51:02.287484Z"
    },
    "papermill": {
     "duration": 0.067168,
     "end_time": "2022-06-30T09:51:02.291218",
     "exception": false,
     "start_time": "2022-06-30T09:51:02.224050",
     "status": "completed"
    },
    "tags": []
   },
   "outputs": [],
   "source": [
    "y_pred_test_t = np.reshape(y_pred_test,418)"
   ]
  },
  {
   "cell_type": "code",
   "execution_count": 58,
   "id": "679cd62f",
   "metadata": {
    "execution": {
     "iopub.execute_input": "2022-06-30T09:51:02.408567Z",
     "iopub.status.busy": "2022-06-30T09:51:02.407961Z",
     "iopub.status.idle": "2022-06-30T09:51:02.421808Z",
     "shell.execute_reply": "2022-06-30T09:51:02.420820Z"
    },
    "papermill": {
     "duration": 0.075332,
     "end_time": "2022-06-30T09:51:02.424554",
     "exception": false,
     "start_time": "2022-06-30T09:51:02.349222",
     "status": "completed"
    },
    "tags": []
   },
   "outputs": [],
   "source": [
    "df_gender_submission = pd.read_csv('/kaggle/input/titanic/gender_submission.csv')"
   ]
  },
  {
   "cell_type": "code",
   "execution_count": 59,
   "id": "dc84adcc",
   "metadata": {
    "execution": {
     "iopub.execute_input": "2022-06-30T09:51:02.541185Z",
     "iopub.status.busy": "2022-06-30T09:51:02.540556Z",
     "iopub.status.idle": "2022-06-30T09:51:02.551102Z",
     "shell.execute_reply": "2022-06-30T09:51:02.550196Z"
    },
    "papermill": {
     "duration": 0.071656,
     "end_time": "2022-06-30T09:51:02.553533",
     "exception": false,
     "start_time": "2022-06-30T09:51:02.481877",
     "status": "completed"
    },
    "tags": []
   },
   "outputs": [],
   "source": [
    "# Sample Submission\n",
    "output = pd.DataFrame({'PassengerId': df_gender_submission.PassengerId, 'Survived': y_pred_test_t})\n",
    "output.to_csv(\"submission.csv\", index = False)"
   ]
  }
 ],
 "metadata": {
  "kernelspec": {
   "display_name": "Python 3",
   "language": "python",
   "name": "python3"
  },
  "language_info": {
   "codemirror_mode": {
    "name": "ipython",
    "version": 3
   },
   "file_extension": ".py",
   "mimetype": "text/x-python",
   "name": "python",
   "nbconvert_exporter": "python",
   "pygments_lexer": "ipython3",
   "version": "3.7.12"
  },
  "papermill": {
   "default_parameters": {},
   "duration": 238.922881,
   "end_time": "2022-06-30T09:51:05.701271",
   "environment_variables": {},
   "exception": null,
   "input_path": "__notebook__.ipynb",
   "output_path": "__notebook__.ipynb",
   "parameters": {},
   "start_time": "2022-06-30T09:47:06.778390",
   "version": "2.3.4"
  }
 },
 "nbformat": 4,
 "nbformat_minor": 5
}
